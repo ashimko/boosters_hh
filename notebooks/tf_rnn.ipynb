{
 "cells": [
  {
   "cell_type": "code",
   "execution_count": 1,
   "metadata": {},
   "outputs": [],
   "source": [
    "import sys\n",
    "sys.path.insert(0, '..')"
   ]
  },
  {
   "cell_type": "code",
   "execution_count": 19,
   "metadata": {},
   "outputs": [],
   "source": [
    "import numpy as np\n",
    "import pandas as pd\n",
    "import tensorflow as tf\n",
    "from tensorflow import keras\n",
    "from tensorflow.keras import layers\n",
    "from typing import Dict\n",
    "from config import TEXT_COLS, ORDERED_CATEGORIES, UNORDERED_CATEGORIES\n",
    "from sklearn.model_selection import train_test_split"
   ]
  },
  {
   "cell_type": "code",
   "execution_count": 3,
   "metadata": {},
   "outputs": [],
   "source": [
    "train = pd.read_pickle('../data/prepared/train.pkl')\n",
    "target = pd.read_pickle('../data/prepared/target.pkl')\n",
    "test = pd.read_pickle('../data/prepared/test.pkl')"
   ]
  },
  {
   "cell_type": "code",
   "execution_count": 4,
   "metadata": {},
   "outputs": [],
   "source": [
    "BUFFER_SIZE = 10000\n",
    "VOCAB_SIZE = 10000\n",
    "BATCH_SIZE = 64\n",
    "N_TARGETS = target.shape[1]"
   ]
  },
  {
   "cell_type": "code",
   "execution_count": 5,
   "metadata": {},
   "outputs": [],
   "source": [
    "def get_encoders(data: pd.DataFrame, **keywords) -> Dict:\n",
    "    encoders = {}\n",
    "    for col in data.columns:\n",
    "        encoder = layers.TextVectorization(max_tokens=VOCAB_SIZE, name=col, **keywords)\n",
    "        encoder.adapt(train[col])\n",
    "        encoders[col] = encoder\n",
    "    return encoders"
   ]
  },
  {
   "cell_type": "code",
   "execution_count": 6,
   "metadata": {},
   "outputs": [
    {
     "name": "stderr",
     "output_type": "stream",
     "text": [
      "2022-01-17 18:39:05.836905: I tensorflow/core/platform/cpu_feature_guard.cc:151] This TensorFlow binary is optimized with oneAPI Deep Neural Network Library (oneDNN) to use the following CPU instructions in performance-critical operations:  AVX2 FMA\n",
      "To enable them in other operations, rebuild TensorFlow with the appropriate compiler flags.\n"
     ]
    }
   ],
   "source": [
    "encoders = get_encoders(train[TEXT_COLS+UNORDERED_CATEGORIES])"
   ]
  },
  {
   "cell_type": "code",
   "execution_count": 23,
   "metadata": {},
   "outputs": [],
   "source": [
    "def get_model(encoders):\n",
    "\n",
    "    def _get_text_model(input, encoder):\n",
    "        x = encoder(input)\n",
    "        x = layers.Embedding(\n",
    "                input_dim=len(encoder.get_vocabulary()),\n",
    "                output_dim=64,\n",
    "                mask_zero=True)(x)\n",
    "        x = layers.Bidirectional(tf.keras.layers.LSTM(64))(x)\n",
    "        x = layers.Dropout(0.5)(x)\n",
    "        x = layers.Dense(64, activation='relu')(x)\n",
    "        x = layers.Dropout(0.3)(x)\n",
    "        x = layers.Dense(N_TARGETS)(x)\n",
    "        return x\n",
    "\n",
    "    def _get_ordered_category_model(input):\n",
    "        x = layers.Dense(32, activation='relu')(input)\n",
    "        x = layers.Dropout(0.2)(x)\n",
    "        x = layers.Dense(N_TARGETS)(x)\n",
    "        return x\n",
    "\n",
    "    def _get_unordered_category_mode(input, encoder):\n",
    "        x = encoder(input)\n",
    "        x = layers.CategoryEncoding(num_tokens=len(encoder.get_vocabulary()))(x)\n",
    "        x = layers.Dense(64, activation='relu')(x)\n",
    "        x = layers.Dropout(0.2)(x)\n",
    "        x = layers.Dense(32, activation='relu')(x)\n",
    "        x = layers.Dropout(0.2)(x)\n",
    "        x = layers.Dense(N_TARGETS)(x)\n",
    "        return x\n",
    "\n",
    "    def _get_final_classifier(features):\n",
    "        x = layers.Dense(128, activation='relu')(features)\n",
    "        x = layers.Dropout(0.3)(x)\n",
    "        x = layers.Dense(64, activation='relu')(x)\n",
    "        x = layers.Dropout(0.3)(x)\n",
    "        x = layers.Dense(N_TARGETS, activation='sigmoid')(x)\n",
    "        return x\n",
    "\n",
    "    text_inputs = {col: keras.Input(shape=(None,), dtype='string', name=f'{col}_text') for col in TEXT_COLS + UNORDERED_CATEGORIES}\n",
    "    unordered_cat_inputs = {col: keras.Input(shape=(None,), dtype='string', name=f'{col}_unordered_cat') for col in UNORDERED_CATEGORIES}\n",
    "    ordered_cat_input = keras.Input(shape=(len(ORDERED_CATEGORIES)), name='ordered_cat_input')\n",
    "\n",
    "    ordered_cat_features = [_get_ordered_category_model(ordered_cat_input)]\n",
    "    text_features = [_get_text_model(text_inputs[col], encoders[col]) for col in TEXT_COLS]\n",
    "    unordered_cat_features = [_get_unordered_category_mode(unordered_cat_inputs[col], encoders[col]) for col in UNORDERED_CATEGORIES]\n",
    "\n",
    "    features = layers.Add()(ordered_cat_features + text_features + unordered_cat_features)\n",
    "    out = _get_final_classifier(features)\n",
    "\n",
    "    model = keras.Model(\n",
    "        inputs=[ordered_cat_input] + list(text_inputs.values()) + list(unordered_cat_inputs.values()),\n",
    "        outputs=out\n",
    "    )\n",
    "\n",
    "    model.compile(\n",
    "    optimizer=keras.optimizers.Adam(),\n",
    "    loss=keras.losses.BinaryCrossentropy(from_logits=False)\n",
    ")\n",
    "\n",
    "    return model\n"
   ]
  },
  {
   "cell_type": "code",
   "execution_count": 24,
   "metadata": {},
   "outputs": [],
   "source": [
    "model = get_model(encoders)"
   ]
  },
  {
   "cell_type": "code",
   "execution_count": 20,
   "metadata": {},
   "outputs": [],
   "source": [
    "X_train, X_val, y_train, y_val = train_test_split(train, target, test_size=0.33, random_state=42)"
   ]
  },
  {
   "cell_type": "code",
   "execution_count": 25,
   "metadata": {},
   "outputs": [],
   "source": [
    "x = {f'{col}_text': X_train[col] for col in TEXT_COLS + UNORDERED_CATEGORIES}\n",
    "x.update({f'{col}_unordered_cat': X_train[col] for col in UNORDERED_CATEGORIES})\n",
    "x.update({'ordered_cat_input': X_train[ORDERED_CATEGORIES]})"
   ]
  },
  {
   "cell_type": "code",
   "execution_count": 26,
   "metadata": {},
   "outputs": [
    {
     "name": "stdout",
     "output_type": "stream",
     "text": [
      "Epoch 1/3\n",
      "17/17 [==============================] - 345s 20s/step - loss: 0.5730\n",
      "Epoch 2/3\n",
      "17/17 [==============================] - 307s 17s/step - loss: 0.2872\n",
      "Epoch 3/3\n",
      "17/17 [==============================] - 270s 16s/step - loss: 0.2288\n"
     ]
    },
    {
     "data": {
      "text/plain": [
       "<keras.callbacks.History at 0x7f8968ce3c40>"
      ]
     },
     "execution_count": 26,
     "metadata": {},
     "output_type": "execute_result"
    }
   ],
   "source": [
    "model.fit(x=x, y=y_train, epochs=3, batch_size=2048)"
   ]
  },
  {
   "cell_type": "code",
   "execution_count": 27,
   "metadata": {},
   "outputs": [],
   "source": [
    "x = {f'{col}_text': X_val[col] for col in TEXT_COLS + UNORDERED_CATEGORIES}\n",
    "x.update({f'{col}_unordered_cat': X_val[col] for col in UNORDERED_CATEGORIES})\n",
    "x.update({'ordered_cat_input': X_val[ORDERED_CATEGORIES]})"
   ]
  },
  {
   "cell_type": "code",
   "execution_count": 29,
   "metadata": {},
   "outputs": [],
   "source": [
    "pred = model.predict(x)"
   ]
  },
  {
   "cell_type": "code",
   "execution_count": 35,
   "metadata": {},
   "outputs": [
    {
     "data": {
      "text/plain": [
       "array([0.35894182, 0.04393944, 0.00411439, 0.00540468, 0.00485599,\n",
       "       0.00279172, 0.00828095, 0.00307931, 0.64143836], dtype=float32)"
      ]
     },
     "execution_count": 35,
     "metadata": {},
     "output_type": "execute_result"
    }
   ],
   "source": [
    "np.median(pred, axis=0)"
   ]
  },
  {
   "cell_type": "code",
   "execution_count": 38,
   "metadata": {},
   "outputs": [],
   "source": [
    "from sklearn.metrics import f1_score"
   ]
  },
  {
   "cell_type": "code",
   "execution_count": 42,
   "metadata": {},
   "outputs": [
    {
     "data": {
      "text/plain": [
       "0.5947687115346436"
      ]
     },
     "execution_count": 42,
     "metadata": {},
     "output_type": "execute_result"
    }
   ],
   "source": [
    "pred_labels = np.where(pred > np.quantile(pred, axis=0), 1, 0)\n",
    "f1_score(y_val, pred_labels, average='samples')"
   ]
  },
  {
   "cell_type": "code",
   "execution_count": 43,
   "metadata": {},
   "outputs": [
    {
     "name": "stdout",
     "output_type": "stream",
     "text": [
      "Predicted Optimal Threshold is 0.34998 with F1 score 0.70018\n"
     ]
    }
   ],
   "source": [
    "def expect_f1(y_prob, thres):\n",
    "    idxs = np.where(y_prob >= thres)[0]\n",
    "    tp = y_prob[idxs].sum()\n",
    "    fp = len(idxs) - tp\n",
    "    idxs = np.where(y_prob < thres)[0]\n",
    "    fn = y_prob[idxs].sum()\n",
    "    return 2*tp / (2*tp + fp + fn)\n",
    "\n",
    "def optimal_threshold(y_prob):\n",
    "    y_prob = np.sort(y_prob)[::-1]\n",
    "    f1s = [expect_f1(y_prob, p) for p in y_prob]\n",
    "    thres = y_prob[np.argmax(f1s)]\n",
    "    return thres, f1s\n",
    "\n",
    "thres, f1s = optimal_threshold(pred[:, 0])\n",
    "print(f\"Predicted Optimal Threshold is {thres:.5f} with F1 score {expect_f1(pred[:, 0], thres):.5f}\")"
   ]
  },
  {
   "cell_type": "code",
   "execution_count": 45,
   "metadata": {},
   "outputs": [
    {
     "name": "stdout",
     "output_type": "stream",
     "text": [
      "f1_scores_samples 0.7493755473564884\n"
     ]
    }
   ],
   "source": [
    "pred_labels = np.zeros_like(pred, dtype=np.int8)\n",
    "for col_idx in range(y_val.shape[1]):\n",
    "    thres, _ = optimal_threshold(pred[:, col_idx])\n",
    "    pred_labels[:, col_idx] = np.where(pred[:, col_idx] > thres, 1, 0)\n",
    "print('f1_scores_samples', f1_score(y_val, pred_labels, average='samples'))\n",
    "    "
   ]
  },
  {
   "cell_type": "code",
   "execution_count": 49,
   "metadata": {},
   "outputs": [],
   "source": [
    "def get_pred_labels(pred_proba: np.ndarray, y_true: np.ndarray = None):\n",
    "    pred_labels = np.zeros_like(pred_proba, dtype=np.int8)\n",
    "    for col_idx in range(9):\n",
    "        thres, _ = optimal_threshold(pred_proba[:, col_idx])\n",
    "        pred_labels[:, col_idx] = np.where(pred_proba[:, col_idx] > thres, 1, 0)\n",
    "    if y_true:\n",
    "        print('f1_scores_samples', f1_score(y_true, pred_labels, average='samples'))\n",
    "    return pred_labels"
   ]
  },
  {
   "cell_type": "code",
   "execution_count": 50,
   "metadata": {},
   "outputs": [],
   "source": [
    "pred_labels = get_pred_labels(pred)"
   ]
  },
  {
   "cell_type": "code",
   "execution_count": 53,
   "metadata": {},
   "outputs": [],
   "source": [
    "a = pd.DataFrame(np.zeros_like(pred))"
   ]
  },
  {
   "cell_type": "code",
   "execution_count": null,
   "metadata": {},
   "outputs": [],
   "source": []
  },
  {
   "cell_type": "code",
   "execution_count": 52,
   "metadata": {},
   "outputs": [
    {
     "data": {
      "text/plain": [
       "(16790, 9)"
      ]
     },
     "execution_count": 52,
     "metadata": {},
     "output_type": "execute_result"
    }
   ],
   "source": [
    "pred_labels.shape"
   ]
  },
  {
   "cell_type": "code",
   "execution_count": 54,
   "metadata": {},
   "outputs": [],
   "source": [
    "a.iloc[list(range(100))] = pred_labels[list(range(100))]"
   ]
  },
  {
   "cell_type": "code",
   "execution_count": 55,
   "metadata": {},
   "outputs": [
    {
     "data": {
      "text/html": [
       "<div>\n",
       "<style scoped>\n",
       "    .dataframe tbody tr th:only-of-type {\n",
       "        vertical-align: middle;\n",
       "    }\n",
       "\n",
       "    .dataframe tbody tr th {\n",
       "        vertical-align: top;\n",
       "    }\n",
       "\n",
       "    .dataframe thead th {\n",
       "        text-align: right;\n",
       "    }\n",
       "</style>\n",
       "<table border=\"1\" class=\"dataframe\">\n",
       "  <thead>\n",
       "    <tr style=\"text-align: right;\">\n",
       "      <th></th>\n",
       "      <th>0</th>\n",
       "      <th>1</th>\n",
       "      <th>2</th>\n",
       "      <th>3</th>\n",
       "      <th>4</th>\n",
       "      <th>5</th>\n",
       "      <th>6</th>\n",
       "      <th>7</th>\n",
       "      <th>8</th>\n",
       "    </tr>\n",
       "  </thead>\n",
       "  <tbody>\n",
       "    <tr>\n",
       "      <th>0</th>\n",
       "      <td>0.0</td>\n",
       "      <td>1.0</td>\n",
       "      <td>1.0</td>\n",
       "      <td>1.0</td>\n",
       "      <td>1.0</td>\n",
       "      <td>1.0</td>\n",
       "      <td>1.0</td>\n",
       "      <td>1.0</td>\n",
       "      <td>1.0</td>\n",
       "    </tr>\n",
       "    <tr>\n",
       "      <th>1</th>\n",
       "      <td>0.0</td>\n",
       "      <td>0.0</td>\n",
       "      <td>0.0</td>\n",
       "      <td>0.0</td>\n",
       "      <td>0.0</td>\n",
       "      <td>0.0</td>\n",
       "      <td>0.0</td>\n",
       "      <td>0.0</td>\n",
       "      <td>1.0</td>\n",
       "    </tr>\n",
       "    <tr>\n",
       "      <th>2</th>\n",
       "      <td>0.0</td>\n",
       "      <td>0.0</td>\n",
       "      <td>0.0</td>\n",
       "      <td>0.0</td>\n",
       "      <td>0.0</td>\n",
       "      <td>0.0</td>\n",
       "      <td>0.0</td>\n",
       "      <td>0.0</td>\n",
       "      <td>1.0</td>\n",
       "    </tr>\n",
       "    <tr>\n",
       "      <th>3</th>\n",
       "      <td>0.0</td>\n",
       "      <td>0.0</td>\n",
       "      <td>0.0</td>\n",
       "      <td>0.0</td>\n",
       "      <td>0.0</td>\n",
       "      <td>0.0</td>\n",
       "      <td>0.0</td>\n",
       "      <td>0.0</td>\n",
       "      <td>1.0</td>\n",
       "    </tr>\n",
       "    <tr>\n",
       "      <th>4</th>\n",
       "      <td>0.0</td>\n",
       "      <td>1.0</td>\n",
       "      <td>1.0</td>\n",
       "      <td>1.0</td>\n",
       "      <td>1.0</td>\n",
       "      <td>1.0</td>\n",
       "      <td>1.0</td>\n",
       "      <td>1.0</td>\n",
       "      <td>1.0</td>\n",
       "    </tr>\n",
       "    <tr>\n",
       "      <th>...</th>\n",
       "      <td>...</td>\n",
       "      <td>...</td>\n",
       "      <td>...</td>\n",
       "      <td>...</td>\n",
       "      <td>...</td>\n",
       "      <td>...</td>\n",
       "      <td>...</td>\n",
       "      <td>...</td>\n",
       "      <td>...</td>\n",
       "    </tr>\n",
       "    <tr>\n",
       "      <th>16785</th>\n",
       "      <td>0.0</td>\n",
       "      <td>0.0</td>\n",
       "      <td>0.0</td>\n",
       "      <td>0.0</td>\n",
       "      <td>0.0</td>\n",
       "      <td>0.0</td>\n",
       "      <td>0.0</td>\n",
       "      <td>0.0</td>\n",
       "      <td>0.0</td>\n",
       "    </tr>\n",
       "    <tr>\n",
       "      <th>16786</th>\n",
       "      <td>0.0</td>\n",
       "      <td>0.0</td>\n",
       "      <td>0.0</td>\n",
       "      <td>0.0</td>\n",
       "      <td>0.0</td>\n",
       "      <td>0.0</td>\n",
       "      <td>0.0</td>\n",
       "      <td>0.0</td>\n",
       "      <td>0.0</td>\n",
       "    </tr>\n",
       "    <tr>\n",
       "      <th>16787</th>\n",
       "      <td>0.0</td>\n",
       "      <td>0.0</td>\n",
       "      <td>0.0</td>\n",
       "      <td>0.0</td>\n",
       "      <td>0.0</td>\n",
       "      <td>0.0</td>\n",
       "      <td>0.0</td>\n",
       "      <td>0.0</td>\n",
       "      <td>0.0</td>\n",
       "    </tr>\n",
       "    <tr>\n",
       "      <th>16788</th>\n",
       "      <td>0.0</td>\n",
       "      <td>0.0</td>\n",
       "      <td>0.0</td>\n",
       "      <td>0.0</td>\n",
       "      <td>0.0</td>\n",
       "      <td>0.0</td>\n",
       "      <td>0.0</td>\n",
       "      <td>0.0</td>\n",
       "      <td>0.0</td>\n",
       "    </tr>\n",
       "    <tr>\n",
       "      <th>16789</th>\n",
       "      <td>0.0</td>\n",
       "      <td>0.0</td>\n",
       "      <td>0.0</td>\n",
       "      <td>0.0</td>\n",
       "      <td>0.0</td>\n",
       "      <td>0.0</td>\n",
       "      <td>0.0</td>\n",
       "      <td>0.0</td>\n",
       "      <td>0.0</td>\n",
       "    </tr>\n",
       "  </tbody>\n",
       "</table>\n",
       "<p>16790 rows × 9 columns</p>\n",
       "</div>"
      ],
      "text/plain": [
       "         0    1    2    3    4    5    6    7    8\n",
       "0      0.0  1.0  1.0  1.0  1.0  1.0  1.0  1.0  1.0\n",
       "1      0.0  0.0  0.0  0.0  0.0  0.0  0.0  0.0  1.0\n",
       "2      0.0  0.0  0.0  0.0  0.0  0.0  0.0  0.0  1.0\n",
       "3      0.0  0.0  0.0  0.0  0.0  0.0  0.0  0.0  1.0\n",
       "4      0.0  1.0  1.0  1.0  1.0  1.0  1.0  1.0  1.0\n",
       "...    ...  ...  ...  ...  ...  ...  ...  ...  ...\n",
       "16785  0.0  0.0  0.0  0.0  0.0  0.0  0.0  0.0  0.0\n",
       "16786  0.0  0.0  0.0  0.0  0.0  0.0  0.0  0.0  0.0\n",
       "16787  0.0  0.0  0.0  0.0  0.0  0.0  0.0  0.0  0.0\n",
       "16788  0.0  0.0  0.0  0.0  0.0  0.0  0.0  0.0  0.0\n",
       "16789  0.0  0.0  0.0  0.0  0.0  0.0  0.0  0.0  0.0\n",
       "\n",
       "[16790 rows x 9 columns]"
      ]
     },
     "execution_count": 55,
     "metadata": {},
     "output_type": "execute_result"
    }
   ],
   "source": [
    "a"
   ]
  },
  {
   "cell_type": "code",
   "execution_count": 56,
   "metadata": {},
   "outputs": [
    {
     "data": {
      "text/plain": [
       "(50876, 9)"
      ]
     },
     "execution_count": 56,
     "metadata": {},
     "output_type": "execute_result"
    }
   ],
   "source": [
    "target.shape"
   ]
  }
 ],
 "metadata": {
  "interpreter": {
   "hash": "3d597f4c481aa0f25dceb95d2a0067e73c0966dcbd003d741d821a7208527ecf"
  },
  "kernelspec": {
   "display_name": "Python 3.9.5 64-bit ('base': conda)",
   "language": "python",
   "name": "python3"
  },
  "language_info": {
   "codemirror_mode": {
    "name": "ipython",
    "version": 3
   },
   "file_extension": ".py",
   "mimetype": "text/x-python",
   "name": "python",
   "nbconvert_exporter": "python",
   "pygments_lexer": "ipython3",
   "version": "3.9.5"
  },
  "orig_nbformat": 4
 },
 "nbformat": 4,
 "nbformat_minor": 2
}
