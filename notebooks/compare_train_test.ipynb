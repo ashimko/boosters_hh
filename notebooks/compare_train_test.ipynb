{
 "cells": [
  {
   "cell_type": "code",
   "execution_count": 46,
   "metadata": {},
   "outputs": [],
   "source": [
    "import sys\n",
    "sys.path.insert(0, '..')\n",
    "import os\n",
    "import numpy as np\n",
    "import pandas as pd\n",
    "import seaborn as sns\n",
    "from matplotlib import pyplot as plt\n",
    "\n",
    "from config import PREPARED_DATA_PATH, UNORDERED_CATEGORIES, ORDERED_CATEGORIES, TEXT_COLS, CITY, POSITION\n",
    "from helper import _process_pred_labels\n",
    "from evaluate import get_pred_labels\n",
    "\n",
    "%matplotlib inline"
   ]
  },
  {
   "cell_type": "code",
   "execution_count": 3,
   "metadata": {},
   "outputs": [],
   "source": [
    "from sklearn.metrics import f1_score"
   ]
  },
  {
   "cell_type": "code",
   "execution_count": 8,
   "metadata": {},
   "outputs": [],
   "source": [
    "target = pd.read_pickle('../data/prepared/target.pkl')"
   ]
  },
  {
   "cell_type": "code",
   "execution_count": 5,
   "metadata": {},
   "outputs": [],
   "source": [
    "oof_pred_proba = pd.read_csv('../oof_predictions/catboost/catboost_pred_proba.csv', index_col='review_id')\n",
    "oof_pred_labels = pd.read_csv('../oof_predictions/catboost/catboost_pred_labels.csv', index_col='review_id')"
   ]
  },
  {
   "cell_type": "code",
   "execution_count": 41,
   "metadata": {},
   "outputs": [],
   "source": [
    "test_pred_proba = pd.read_csv('../test_predictions/catboost/catboost_pred_proba.csv', index_col='review_id')\n",
    "test_pred_labels = pd.read_csv('../test_predictions/catboost/catboost_pred_labels.csv', index_col='review_id')"
   ]
  },
  {
   "cell_type": "code",
   "execution_count": 11,
   "metadata": {},
   "outputs": [
    {
     "data": {
      "text/plain": [
       "0.20641792306722725"
      ]
     },
     "execution_count": 11,
     "metadata": {},
     "output_type": "execute_result"
    }
   ],
   "source": [
    "f1_score(target, oof_pred_labels, average='samples', zero_division=0)"
   ]
  },
  {
   "cell_type": "code",
   "execution_count": 15,
   "metadata": {},
   "outputs": [
    {
     "data": {
      "text/plain": [
       "array([[1, 0, 0, ..., 0, 0, 0],\n",
       "       [0, 0, 0, ..., 0, 0, 0],\n",
       "       [1, 0, 0, ..., 0, 0, 0],\n",
       "       ...,\n",
       "       [0, 0, 0, ..., 0, 0, 1],\n",
       "       [0, 1, 0, ..., 0, 0, 1],\n",
       "       [1, 0, 0, ..., 0, 0, 0]])"
      ]
     },
     "execution_count": 15,
     "metadata": {},
     "output_type": "execute_result"
    }
   ],
   "source": [
    "np.where(oof_pred_proba > 0.5, 1, 0)"
   ]
  },
  {
   "cell_type": "code",
   "execution_count": 61,
   "metadata": {},
   "outputs": [
    {
     "name": "stdout",
     "output_type": "stream",
     "text": [
      "0 0.8628199859798399 0.415\n",
      "1 0.5416500066640011 0.259\n",
      "2 0.0007051564565888056 0.447\n",
      "3 0.718539865513929 0.5\n",
      "4 0.013422818791946308 0.472\n",
      "5 0.3852691218130312 0.17\n",
      "6 0.33681622618315915 0.489\n",
      "7 0.4721407624633431 0.15\n",
      "8 0.865229689569981 0.5\n"
     ]
    }
   ],
   "source": [
    "max_f1_score = float('-inf')\n",
    "best_tresh = None\n",
    "best_treshes = {}\n",
    "\n",
    "for col in target.columns:\n",
    "    max_f1_score = float('-inf')\n",
    "    best_tresh = None\n",
    "    tresholds = np.unique(np.round(np.unique(oof_pred_proba[col]), 3))\n",
    "    for tresh in tresholds:\n",
    "        score = f1_score(target[col], np.where(oof_pred_proba[col] > tresh, 1, 0), zero_division=0)\n",
    "        if score > max_f1_score:\n",
    "            max_f1_score = score\n",
    "            best_tresh = tresh\n",
    "    best_treshes[col] = best_tresh\n",
    "    print(col, max_f1_score, best_tresh)\n",
    "    "
   ]
  },
  {
   "cell_type": "code",
   "execution_count": 64,
   "metadata": {},
   "outputs": [],
   "source": [
    "for col in target.columns:\n",
    "    oof_pred_labels.loc[:, col] = np.where(oof_pred_proba[col] > best_treshes[col], 1, 0)"
   ]
  },
  {
   "cell_type": "code",
   "execution_count": 68,
   "metadata": {},
   "outputs": [
    {
     "data": {
      "text/plain": [
       "0.770707771275819"
      ]
     },
     "execution_count": 68,
     "metadata": {},
     "output_type": "execute_result"
    }
   ],
   "source": [
    "f1_score(target, oof_pred_labels, average='samples', zero_division=0)"
   ]
  },
  {
   "cell_type": "code",
   "execution_count": 36,
   "metadata": {},
   "outputs": [
    {
     "data": {
      "text/plain": [
       "0.483"
      ]
     },
     "execution_count": 36,
     "metadata": {},
     "output_type": "execute_result"
    }
   ],
   "source": [
    "best_tresh"
   ]
  },
  {
   "cell_type": "code",
   "execution_count": 33,
   "metadata": {},
   "outputs": [
    {
     "data": {
      "text/plain": [
       "0.8256270147024137"
      ]
     },
     "execution_count": 33,
     "metadata": {},
     "output_type": "execute_result"
    }
   ],
   "source": [
    "max_f1_score"
   ]
  },
  {
   "cell_type": "code",
   "execution_count": 31,
   "metadata": {},
   "outputs": [
    {
     "data": {
      "text/plain": [
       "0.8252312812852162"
      ]
     },
     "execution_count": 31,
     "metadata": {},
     "output_type": "execute_result"
    }
   ],
   "source": [
    "max_f1_score"
   ]
  },
  {
   "cell_type": "code",
   "execution_count": 48,
   "metadata": {},
   "outputs": [],
   "source": [
    "pred_labels1 = get_pred_labels(oof_pred_proba.values)"
   ]
  },
  {
   "cell_type": "code",
   "execution_count": 53,
   "metadata": {},
   "outputs": [],
   "source": [
    "def expect_f12(y_prob, thres):\n",
    "    idxs = np.where(y_prob >= thres)[0]\n",
    "    tp = y_prob[idxs].sum()\n",
    "    fp = len(idxs) - tp\n",
    "    idxs = np.where(y_prob < thres)[0]\n",
    "    fn = y_prob[idxs].sum()\n",
    "    return 2*tp / (2*tp + fp + fn)\n",
    "\n",
    "def optimal_threshold2(y_prob):\n",
    "    y_prob = np.sort(y_prob)[::-1]\n",
    "    f1s = [expect_f12(y_prob, p) for p in y_prob]\n",
    "    thres = y_prob[np.argmax(f1s)]\n",
    "    return thres, f1s\n",
    "\n",
    "def get_pred_labels2(pred_proba: np.ndarray) -> np.ndarray:\n",
    "    pred_labels = np.zeros_like(pred_proba, dtype=np.int8)\n",
    "    for col_idx in range(9):\n",
    "        thres, _ = optimal_threshold2(pred_proba[:, col_idx])\n",
    "        pred_labels[:, col_idx] = np.where(pred_proba[:, col_idx] > thres, 1, 0)\n",
    "    return pred_labels"
   ]
  },
  {
   "cell_type": "code",
   "execution_count": 54,
   "metadata": {},
   "outputs": [],
   "source": [
    "pred_labels2 = get_pred_labels2(oof_pred_proba.values)"
   ]
  },
  {
   "cell_type": "code",
   "execution_count": 49,
   "metadata": {},
   "outputs": [
    {
     "data": {
      "text/plain": [
       "0.40416229874815457"
      ]
     },
     "execution_count": 49,
     "metadata": {},
     "output_type": "execute_result"
    }
   ],
   "source": [
    "f1_score(target, pred_labels1, average='samples', zero_division=0)"
   ]
  },
  {
   "cell_type": "code",
   "execution_count": 55,
   "metadata": {},
   "outputs": [
    {
     "data": {
      "text/plain": [
       "0.40416229874815457"
      ]
     },
     "execution_count": 55,
     "metadata": {},
     "output_type": "execute_result"
    }
   ],
   "source": [
    "f1_score(target, pred_labels2, average='samples', zero_division=0)"
   ]
  },
  {
   "cell_type": "code",
   "execution_count": null,
   "metadata": {},
   "outputs": [],
   "source": [
    "pred_labels1"
   ]
  },
  {
   "cell_type": "code",
   "execution_count": 34,
   "metadata": {},
   "outputs": [],
   "source": [
    "oof_pred_labels.loc[:, :] = np.where(oof_pred_proba > best_tresh, 1, 0)"
   ]
  },
  {
   "cell_type": "code",
   "execution_count": 43,
   "metadata": {},
   "outputs": [],
   "source": [
    "test_pred_labels.loc[:, :] = np.where(test_pred_proba > best_tresh, 1, 0)"
   ]
  },
  {
   "cell_type": "code",
   "execution_count": 44,
   "metadata": {},
   "outputs": [],
   "source": [
    "test_pred_labels['target'] = test_pred_labels.apply(_process_pred_labels, axis=1)"
   ]
  },
  {
   "cell_type": "code",
   "execution_count": 45,
   "metadata": {},
   "outputs": [],
   "source": [
    "test_pred_labels['target'].to_csv('../submitions/catboost.csv')"
   ]
  },
  {
   "cell_type": "code",
   "execution_count": 16,
   "metadata": {},
   "outputs": [
    {
     "data": {
      "text/plain": [
       "0.8240231150247661"
      ]
     },
     "execution_count": 16,
     "metadata": {},
     "output_type": "execute_result"
    }
   ],
   "source": [
    "f1_score(target, np.where(oof_pred_proba > 0.5, 1, 0), average='samples', zero_division=0)"
   ]
  },
  {
   "cell_type": "code",
   "execution_count": 13,
   "metadata": {},
   "outputs": [
    {
     "name": "stdout",
     "output_type": "stream",
     "text": [
      "0 0.7365091696029743\n",
      "1 0.4496723239791632\n",
      "2 0.00033802055164954025\n",
      "3 0.17414818820984315\n",
      "4 0.004312790829644761\n",
      "5 0.19599999999999998\n",
      "6 0.08575273985771967\n",
      "7 0.1703056768558952\n",
      "8 0.22868053982329528\n"
     ]
    }
   ],
   "source": [
    "for col in target.columns:\n",
    "    print(col, f1_score(target[col], oof_pred_labels[col]))"
   ]
  },
  {
   "cell_type": "code",
   "execution_count": null,
   "metadata": {},
   "outputs": [],
   "source": []
  },
  {
   "cell_type": "code",
   "execution_count": 2,
   "metadata": {},
   "outputs": [],
   "source": [
    "train = pd.read_pickle('../data/prepared/train.pkl')\n",
    "test = pd.read_pickle('../data/prepared/test.pkl')"
   ]
  },
  {
   "cell_type": "code",
   "execution_count": 14,
   "metadata": {},
   "outputs": [],
   "source": [
    "orig_train = pd.read_csv('../data/original/train.csv')\n",
    "orig_test = pd.read_csv('../data/original/test.csv')"
   ]
  },
  {
   "cell_type": "code",
   "execution_count": 18,
   "metadata": {},
   "outputs": [
    {
     "data": {
      "text/plain": [
       "0                                    Старший специалист\n",
       "1                                 Менеджер по персоналу\n",
       "2                                      Тренинг-менеджер\n",
       "3                              Специалист отдела кадров\n",
       "4                                       Бизнес-аналитик\n",
       "5     Ведущий экономист группы диспетчеризации, норм...\n",
       "6                                     Делопроизводитель\n",
       "7                                              Оператор\n",
       "8                                       Оператор склада\n",
       "9                                                   NaN\n",
       "10                                    Директор магазина\n",
       "11                               Специалист по закупкам\n",
       "12                                        Администратор\n",
       "13    Директор по продажам и маркетингу автомобильно...\n",
       "14                 Специалист Отдела поддержки клиентов\n",
       "15                                        Комплектовщик\n",
       "16                                  Представитель банка\n",
       "17                                              Медбрат\n",
       "18           Младший специалист департамента маркетинга\n",
       "19                                           Специалист\n",
       "20                     Специалист по работе с клиентами\n",
       "21                Менеджер по digital проектам обучения\n",
       "22    Начальник участка строительства, главный ижене...\n",
       "23                               Менеджер отдела продаж\n",
       "24    Главный менеджер по продажам и обсуживанию юри...\n",
       "25                                                  NaN\n",
       "26                                  Сортировщик сдатчик\n",
       "27                                              Грузчик\n",
       "28                                  Помощник бурильщика\n",
       "29                                         Руководитель\n",
       "Name: position, dtype: object"
      ]
     },
     "execution_count": 18,
     "metadata": {},
     "output_type": "execute_result"
    }
   ],
   "source": [
    "orig_test[POSITION].head(30)"
   ]
  },
  {
   "cell_type": "code",
   "execution_count": 4,
   "metadata": {},
   "outputs": [],
   "source": [
    "data = pd.concat((train.assign(kind='train'), test.assign(kind='test')))"
   ]
  },
  {
   "cell_type": "code",
   "execution_count": 6,
   "metadata": {},
   "outputs": [],
   "source": [
    "from sklearn.model_selection import train_test_split"
   ]
  },
  {
   "cell_type": "code",
   "execution_count": 13,
   "metadata": {},
   "outputs": [],
   "source": [
    "cv = [tuple(train_test_split(data.index, test_size=0.3, random_state=42, stratify=data[CITY]))]"
   ]
  },
  {
   "cell_type": "code",
   "execution_count": 19,
   "metadata": {},
   "outputs": [
    {
     "data": {
      "text/plain": [
       "Int64Index([185779,  42163,  22664,  87490, 188471, 159130,  98257, 142425,\n",
       "            121281, 161059,\n",
       "            ...\n",
       "             18917,  76601, 185964, 176107,  44017, 103577, 161499,  84484,\n",
       "            152856, 116961],\n",
       "           dtype='int64', name='review_id', length=30459)"
      ]
     },
     "execution_count": 19,
     "metadata": {},
     "output_type": "execute_result"
    }
   ],
   "source": [
    "cv[0][1]"
   ]
  },
  {
   "cell_type": "code",
   "execution_count": 5,
   "metadata": {},
   "outputs": [
    {
     "data": {
      "text/plain": [
       "ANOTHER                                        20585\n",
       "NA                                              6885\n",
       "Продавец-консультант                            4455\n",
       "Продавец-кассир                                 2970\n",
       "Менеджер по продажам                            1984\n",
       "                                               ...  \n",
       "Директор проекта                                   2\n",
       "Оператор мкс                                       2\n",
       "Специалист по продажам недвижимости                2\n",
       "Специалист по продажам финансовых продуктов        2\n",
       "Стажер отдела аудита                               2\n",
       "Name: position, Length: 3217, dtype: int64"
      ]
     },
     "execution_count": 5,
     "metadata": {},
     "output_type": "execute_result"
    }
   ],
   "source": [
    "data[POSITION].value_counts()"
   ]
  },
  {
   "cell_type": "code",
   "execution_count": 44,
   "metadata": {},
   "outputs": [
    {
     "data": {
      "text/plain": [
       "['salary_rating',\n",
       " 'team_rating',\n",
       " 'managment_rating',\n",
       " 'career_rating',\n",
       " 'workplace_rating',\n",
       " 'rest_recovery_rating']"
      ]
     },
     "execution_count": 44,
     "metadata": {},
     "output_type": "execute_result"
    }
   ],
   "source": [
    "ORDERED_CATEGORIES"
   ]
  },
  {
   "cell_type": "code",
   "execution_count": 46,
   "metadata": {},
   "outputs": [
    {
     "data": {
      "text/html": [
       "<div>\n",
       "<style scoped>\n",
       "    .dataframe tbody tr th:only-of-type {\n",
       "        vertical-align: middle;\n",
       "    }\n",
       "\n",
       "    .dataframe tbody tr th {\n",
       "        vertical-align: top;\n",
       "    }\n",
       "\n",
       "    .dataframe thead th {\n",
       "        text-align: right;\n",
       "    }\n",
       "</style>\n",
       "<table border=\"1\" class=\"dataframe\">\n",
       "  <thead>\n",
       "    <tr style=\"text-align: right;\">\n",
       "      <th>kind</th>\n",
       "      <th>test</th>\n",
       "      <th>train</th>\n",
       "      <th>diff</th>\n",
       "      <th>diff_rel</th>\n",
       "    </tr>\n",
       "    <tr>\n",
       "      <th>rest_recovery_rating</th>\n",
       "      <th></th>\n",
       "      <th></th>\n",
       "      <th></th>\n",
       "      <th></th>\n",
       "    </tr>\n",
       "  </thead>\n",
       "  <tbody>\n",
       "    <tr>\n",
       "      <th>3</th>\n",
       "      <td>7163</td>\n",
       "      <td>6037</td>\n",
       "      <td>-1126</td>\n",
       "      <td>-0.170606</td>\n",
       "    </tr>\n",
       "    <tr>\n",
       "      <th>2</th>\n",
       "      <td>5243</td>\n",
       "      <td>4577</td>\n",
       "      <td>-666</td>\n",
       "      <td>-0.135642</td>\n",
       "    </tr>\n",
       "    <tr>\n",
       "      <th>1</th>\n",
       "      <td>12137</td>\n",
       "      <td>11714</td>\n",
       "      <td>-423</td>\n",
       "      <td>-0.035470</td>\n",
       "    </tr>\n",
       "    <tr>\n",
       "      <th>5</th>\n",
       "      <td>18706</td>\n",
       "      <td>20305</td>\n",
       "      <td>1599</td>\n",
       "      <td>0.081977</td>\n",
       "    </tr>\n",
       "    <tr>\n",
       "      <th>4</th>\n",
       "      <td>7402</td>\n",
       "      <td>8243</td>\n",
       "      <td>841</td>\n",
       "      <td>0.107510</td>\n",
       "    </tr>\n",
       "  </tbody>\n",
       "</table>\n",
       "</div>"
      ],
      "text/plain": [
       "kind                   test  train  diff  diff_rel\n",
       "rest_recovery_rating                              \n",
       "3                      7163   6037 -1126 -0.170606\n",
       "2                      5243   4577  -666 -0.135642\n",
       "1                     12137  11714  -423 -0.035470\n",
       "5                     18706  20305  1599  0.081977\n",
       "4                      7402   8243   841  0.107510"
      ]
     },
     "execution_count": 46,
     "metadata": {},
     "output_type": "execute_result"
    }
   ],
   "source": [
    "idx = 5\n",
    "grb = data.groupby(['kind', ORDERED_CATEGORIES[idx]])[ORDERED_CATEGORIES[idx]].count().unstack('kind')\n",
    "grb['diff'] = grb['train'] - grb['test']\n",
    "grb['diff_rel'] = grb['diff'] / ((grb['train'] + grb['test'])/2)\n",
    "\n",
    "grb.sort_values('diff_rel')"
   ]
  }
 ],
 "metadata": {
  "interpreter": {
   "hash": "3d597f4c481aa0f25dceb95d2a0067e73c0966dcbd003d741d821a7208527ecf"
  },
  "kernelspec": {
   "display_name": "Python 3.9.5 64-bit ('base': conda)",
   "language": "python",
   "name": "python3"
  },
  "language_info": {
   "codemirror_mode": {
    "name": "ipython",
    "version": 3
   },
   "file_extension": ".py",
   "mimetype": "text/x-python",
   "name": "python",
   "nbconvert_exporter": "python",
   "pygments_lexer": "ipython3",
   "version": "3.9.5"
  },
  "orig_nbformat": 4
 },
 "nbformat": 4,
 "nbformat_minor": 2
}
