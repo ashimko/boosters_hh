{
 "cells": [
  {
   "cell_type": "code",
   "execution_count": 1,
   "metadata": {},
   "outputs": [],
   "source": [
    "import sys\n",
    "sys.path.insert(0, '..')\n",
    "import os\n",
    "import numpy as np\n",
    "import pandas as pd\n",
    "import seaborn as sns\n",
    "from matplotlib import pyplot as plt\n",
    "\n",
    "from config import PREPARED_DATA_PATH, UNORDERED_CATEGORIES, ORDERED_CATEGORIES, TEXT_COLS, CITY, POSITION\n",
    "\n",
    "%matplotlib inline"
   ]
  },
  {
   "cell_type": "code",
   "execution_count": 3,
   "metadata": {},
   "outputs": [],
   "source": [
    "from sklearn.metrics import f1_score"
   ]
  },
  {
   "cell_type": "code",
   "execution_count": 8,
   "metadata": {},
   "outputs": [],
   "source": [
    "target = pd.read_pickle('../data/prepared/target.pkl')"
   ]
  },
  {
   "cell_type": "code",
   "execution_count": 5,
   "metadata": {},
   "outputs": [],
   "source": [
    "oof_pred_proba = pd.read_csv('../oof_predictions/catboost/catboost_pred_proba.csv', index_col='review_id')\n",
    "oof_pred_labels = pd.read_csv('../oof_predictions/catboost/catboost_pred_labels.csv', index_col='review_id')"
   ]
  },
  {
   "cell_type": "code",
   "execution_count": 11,
   "metadata": {},
   "outputs": [
    {
     "data": {
      "text/plain": [
       "0.20641792306722725"
      ]
     },
     "execution_count": 11,
     "metadata": {},
     "output_type": "execute_result"
    }
   ],
   "source": [
    "f1_score(target, oof_pred_labels, average='samples', zero_division=0)"
   ]
  },
  {
   "cell_type": "code",
   "execution_count": 15,
   "metadata": {},
   "outputs": [
    {
     "data": {
      "text/plain": [
       "array([[1, 0, 0, ..., 0, 0, 0],\n",
       "       [0, 0, 0, ..., 0, 0, 0],\n",
       "       [1, 0, 0, ..., 0, 0, 0],\n",
       "       ...,\n",
       "       [0, 0, 0, ..., 0, 0, 1],\n",
       "       [0, 1, 0, ..., 0, 0, 1],\n",
       "       [1, 0, 0, ..., 0, 0, 0]])"
      ]
     },
     "execution_count": 15,
     "metadata": {},
     "output_type": "execute_result"
    }
   ],
   "source": [
    "np.where(oof_pred_proba > 0.5, 1, 0)"
   ]
  },
  {
   "cell_type": "code",
   "execution_count": 17,
   "metadata": {},
   "outputs": [
    {
     "data": {
      "text/plain": [
       "array([6.11175972e-05, 7.00501050e-05, 7.74837189e-05, ...,\n",
       "       9.99668342e-01, 9.99705567e-01, 9.99707530e-01])"
      ]
     },
     "execution_count": 17,
     "metadata": {},
     "output_type": "execute_result"
    }
   ],
   "source": [
    "max_f1_score = np.inf('-inf')\n",
    "\n",
    "for tresh np.unique(oof_pred_proba):\n",
    "    score = f1_score(target, np.where(oof_pred_proba > tresh, 1, 0), average='samples', zero_division=0)"
   ]
  },
  {
   "cell_type": "code",
   "execution_count": 16,
   "metadata": {},
   "outputs": [
    {
     "data": {
      "text/plain": [
       "0.8240231150247661"
      ]
     },
     "execution_count": 16,
     "metadata": {},
     "output_type": "execute_result"
    }
   ],
   "source": [
    "f1_score(target, np.where(oof_pred_proba > 0.5, 1, 0), average='samples', zero_division=0)"
   ]
  },
  {
   "cell_type": "code",
   "execution_count": 13,
   "metadata": {},
   "outputs": [
    {
     "name": "stdout",
     "output_type": "stream",
     "text": [
      "0 0.7365091696029743\n",
      "1 0.4496723239791632\n",
      "2 0.00033802055164954025\n",
      "3 0.17414818820984315\n",
      "4 0.004312790829644761\n",
      "5 0.19599999999999998\n",
      "6 0.08575273985771967\n",
      "7 0.1703056768558952\n",
      "8 0.22868053982329528\n"
     ]
    }
   ],
   "source": [
    "for col in target.columns:\n",
    "    print(col, f1_score(target[col], oof_pred_labels[col]))"
   ]
  },
  {
   "cell_type": "code",
   "execution_count": null,
   "metadata": {},
   "outputs": [],
   "source": []
  },
  {
   "cell_type": "code",
   "execution_count": 2,
   "metadata": {},
   "outputs": [],
   "source": [
    "train = pd.read_pickle('../data/prepared/train.pkl')\n",
    "test = pd.read_pickle('../data/prepared/test.pkl')"
   ]
  },
  {
   "cell_type": "code",
   "execution_count": 14,
   "metadata": {},
   "outputs": [],
   "source": [
    "orig_train = pd.read_csv('../data/original/train.csv')\n",
    "orig_test = pd.read_csv('../data/original/test.csv')"
   ]
  },
  {
   "cell_type": "code",
   "execution_count": 18,
   "metadata": {},
   "outputs": [
    {
     "data": {
      "text/plain": [
       "0                                    Старший специалист\n",
       "1                                 Менеджер по персоналу\n",
       "2                                      Тренинг-менеджер\n",
       "3                              Специалист отдела кадров\n",
       "4                                       Бизнес-аналитик\n",
       "5     Ведущий экономист группы диспетчеризации, норм...\n",
       "6                                     Делопроизводитель\n",
       "7                                              Оператор\n",
       "8                                       Оператор склада\n",
       "9                                                   NaN\n",
       "10                                    Директор магазина\n",
       "11                               Специалист по закупкам\n",
       "12                                        Администратор\n",
       "13    Директор по продажам и маркетингу автомобильно...\n",
       "14                 Специалист Отдела поддержки клиентов\n",
       "15                                        Комплектовщик\n",
       "16                                  Представитель банка\n",
       "17                                              Медбрат\n",
       "18           Младший специалист департамента маркетинга\n",
       "19                                           Специалист\n",
       "20                     Специалист по работе с клиентами\n",
       "21                Менеджер по digital проектам обучения\n",
       "22    Начальник участка строительства, главный ижене...\n",
       "23                               Менеджер отдела продаж\n",
       "24    Главный менеджер по продажам и обсуживанию юри...\n",
       "25                                                  NaN\n",
       "26                                  Сортировщик сдатчик\n",
       "27                                              Грузчик\n",
       "28                                  Помощник бурильщика\n",
       "29                                         Руководитель\n",
       "Name: position, dtype: object"
      ]
     },
     "execution_count": 18,
     "metadata": {},
     "output_type": "execute_result"
    }
   ],
   "source": [
    "orig_test[POSITION].head(30)"
   ]
  },
  {
   "cell_type": "code",
   "execution_count": 4,
   "metadata": {},
   "outputs": [],
   "source": [
    "data = pd.concat((train.assign(kind='train'), test.assign(kind='test')))"
   ]
  },
  {
   "cell_type": "code",
   "execution_count": 6,
   "metadata": {},
   "outputs": [],
   "source": [
    "from sklearn.model_selection import train_test_split"
   ]
  },
  {
   "cell_type": "code",
   "execution_count": 13,
   "metadata": {},
   "outputs": [],
   "source": [
    "cv = [tuple(train_test_split(data.index, test_size=0.3, random_state=42, stratify=data[CITY]))]"
   ]
  },
  {
   "cell_type": "code",
   "execution_count": 19,
   "metadata": {},
   "outputs": [
    {
     "data": {
      "text/plain": [
       "Int64Index([185779,  42163,  22664,  87490, 188471, 159130,  98257, 142425,\n",
       "            121281, 161059,\n",
       "            ...\n",
       "             18917,  76601, 185964, 176107,  44017, 103577, 161499,  84484,\n",
       "            152856, 116961],\n",
       "           dtype='int64', name='review_id', length=30459)"
      ]
     },
     "execution_count": 19,
     "metadata": {},
     "output_type": "execute_result"
    }
   ],
   "source": [
    "cv[0][1]"
   ]
  },
  {
   "cell_type": "code",
   "execution_count": 5,
   "metadata": {},
   "outputs": [
    {
     "data": {
      "text/plain": [
       "ANOTHER                                        20585\n",
       "NA                                              6885\n",
       "Продавец-консультант                            4455\n",
       "Продавец-кассир                                 2970\n",
       "Менеджер по продажам                            1984\n",
       "                                               ...  \n",
       "Директор проекта                                   2\n",
       "Оператор мкс                                       2\n",
       "Специалист по продажам недвижимости                2\n",
       "Специалист по продажам финансовых продуктов        2\n",
       "Стажер отдела аудита                               2\n",
       "Name: position, Length: 3217, dtype: int64"
      ]
     },
     "execution_count": 5,
     "metadata": {},
     "output_type": "execute_result"
    }
   ],
   "source": [
    "data[POSITION].value_counts()"
   ]
  },
  {
   "cell_type": "code",
   "execution_count": 44,
   "metadata": {},
   "outputs": [
    {
     "data": {
      "text/plain": [
       "['salary_rating',\n",
       " 'team_rating',\n",
       " 'managment_rating',\n",
       " 'career_rating',\n",
       " 'workplace_rating',\n",
       " 'rest_recovery_rating']"
      ]
     },
     "execution_count": 44,
     "metadata": {},
     "output_type": "execute_result"
    }
   ],
   "source": [
    "ORDERED_CATEGORIES"
   ]
  },
  {
   "cell_type": "code",
   "execution_count": 46,
   "metadata": {},
   "outputs": [
    {
     "data": {
      "text/html": [
       "<div>\n",
       "<style scoped>\n",
       "    .dataframe tbody tr th:only-of-type {\n",
       "        vertical-align: middle;\n",
       "    }\n",
       "\n",
       "    .dataframe tbody tr th {\n",
       "        vertical-align: top;\n",
       "    }\n",
       "\n",
       "    .dataframe thead th {\n",
       "        text-align: right;\n",
       "    }\n",
       "</style>\n",
       "<table border=\"1\" class=\"dataframe\">\n",
       "  <thead>\n",
       "    <tr style=\"text-align: right;\">\n",
       "      <th>kind</th>\n",
       "      <th>test</th>\n",
       "      <th>train</th>\n",
       "      <th>diff</th>\n",
       "      <th>diff_rel</th>\n",
       "    </tr>\n",
       "    <tr>\n",
       "      <th>rest_recovery_rating</th>\n",
       "      <th></th>\n",
       "      <th></th>\n",
       "      <th></th>\n",
       "      <th></th>\n",
       "    </tr>\n",
       "  </thead>\n",
       "  <tbody>\n",
       "    <tr>\n",
       "      <th>3</th>\n",
       "      <td>7163</td>\n",
       "      <td>6037</td>\n",
       "      <td>-1126</td>\n",
       "      <td>-0.170606</td>\n",
       "    </tr>\n",
       "    <tr>\n",
       "      <th>2</th>\n",
       "      <td>5243</td>\n",
       "      <td>4577</td>\n",
       "      <td>-666</td>\n",
       "      <td>-0.135642</td>\n",
       "    </tr>\n",
       "    <tr>\n",
       "      <th>1</th>\n",
       "      <td>12137</td>\n",
       "      <td>11714</td>\n",
       "      <td>-423</td>\n",
       "      <td>-0.035470</td>\n",
       "    </tr>\n",
       "    <tr>\n",
       "      <th>5</th>\n",
       "      <td>18706</td>\n",
       "      <td>20305</td>\n",
       "      <td>1599</td>\n",
       "      <td>0.081977</td>\n",
       "    </tr>\n",
       "    <tr>\n",
       "      <th>4</th>\n",
       "      <td>7402</td>\n",
       "      <td>8243</td>\n",
       "      <td>841</td>\n",
       "      <td>0.107510</td>\n",
       "    </tr>\n",
       "  </tbody>\n",
       "</table>\n",
       "</div>"
      ],
      "text/plain": [
       "kind                   test  train  diff  diff_rel\n",
       "rest_recovery_rating                              \n",
       "3                      7163   6037 -1126 -0.170606\n",
       "2                      5243   4577  -666 -0.135642\n",
       "1                     12137  11714  -423 -0.035470\n",
       "5                     18706  20305  1599  0.081977\n",
       "4                      7402   8243   841  0.107510"
      ]
     },
     "execution_count": 46,
     "metadata": {},
     "output_type": "execute_result"
    }
   ],
   "source": [
    "idx = 5\n",
    "grb = data.groupby(['kind', ORDERED_CATEGORIES[idx]])[ORDERED_CATEGORIES[idx]].count().unstack('kind')\n",
    "grb['diff'] = grb['train'] - grb['test']\n",
    "grb['diff_rel'] = grb['diff'] / ((grb['train'] + grb['test'])/2)\n",
    "\n",
    "grb.sort_values('diff_rel')"
   ]
  }
 ],
 "metadata": {
  "interpreter": {
   "hash": "3d597f4c481aa0f25dceb95d2a0067e73c0966dcbd003d741d821a7208527ecf"
  },
  "kernelspec": {
   "display_name": "Python 3.9.5 64-bit ('base': conda)",
   "language": "python",
   "name": "python3"
  },
  "language_info": {
   "codemirror_mode": {
    "name": "ipython",
    "version": 3
   },
   "file_extension": ".py",
   "mimetype": "text/x-python",
   "name": "python",
   "nbconvert_exporter": "python",
   "pygments_lexer": "ipython3",
   "version": "3.9.5"
  },
  "orig_nbformat": 4
 },
 "nbformat": 4,
 "nbformat_minor": 2
}
