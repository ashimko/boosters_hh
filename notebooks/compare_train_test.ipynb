{
 "cells": [
  {
   "cell_type": "code",
   "execution_count": 6,
   "metadata": {},
   "outputs": [],
   "source": [
    "import sys\n",
    "sys.path.insert(0, '..')\n",
    "import os\n",
    "import numpy as np\n",
    "import pandas as pd\n",
    "import seaborn as sns\n",
    "from matplotlib import pyplot as plt\n",
    "\n",
    "from config import PREPARED_DATA_PATH, UNORDERED_CATEGORIES, ORDERED_CATEGORIES, TEXT_COLS, CITY, POSITION\n",
    "from helper import _process_pred_labels\n",
    "\n",
    "%matplotlib inline"
   ]
  },
  {
   "cell_type": "code",
   "execution_count": 20,
   "metadata": {},
   "outputs": [],
   "source": [
    "test1 = pd.read_csv('../test_predictions/sklearn/sklearn_pred_labels.csv', index_col='review_id')"
   ]
  },
  {
   "cell_type": "code",
   "execution_count": 21,
   "metadata": {},
   "outputs": [],
   "source": [
    "test1['target'] = test1.apply(_process_pred_labels, axis=1)"
   ]
  },
  {
   "cell_type": "code",
   "execution_count": 22,
   "metadata": {},
   "outputs": [],
   "source": [
    "test1['target'].to_csv('../submitions/sklearn.csv')"
   ]
  },
  {
   "cell_type": "code",
   "execution_count": 23,
   "metadata": {},
   "outputs": [
    {
     "data": {
      "text/plain": [
       "review_id\n",
       "3           8\n",
       "4           8\n",
       "13          8\n",
       "14          0\n",
       "17        0,8\n",
       "         ... \n",
       "192819      8\n",
       "192821      8\n",
       "192830    1,8\n",
       "192832    1,8\n",
       "192833    0,8\n",
       "Name: target, Length: 50651, dtype: object"
      ]
     },
     "execution_count": 23,
     "metadata": {},
     "output_type": "execute_result"
    }
   ],
   "source": [
    "test1['target']"
   ]
  },
  {
   "cell_type": "code",
   "execution_count": 3,
   "metadata": {},
   "outputs": [],
   "source": [
    "import random"
   ]
  },
  {
   "cell_type": "code",
   "execution_count": 4,
   "metadata": {},
   "outputs": [],
   "source": [
    "def initialize_weights(layer_dimension: int, n_layers: int):\n",
    "    return [[random.random()] * layer_dimension] * n_layers"
   ]
  },
  {
   "cell_type": "code",
   "execution_count": null,
   "metadata": {},
   "outputs": [],
   "source": []
  },
  {
   "cell_type": "code",
   "execution_count": 2,
   "metadata": {},
   "outputs": [],
   "source": [
    "train = pd.read_pickle('../data/prepared/train.pkl')\n",
    "test = pd.read_pickle('../data/prepared/test.pkl')"
   ]
  },
  {
   "cell_type": "code",
   "execution_count": 14,
   "metadata": {},
   "outputs": [],
   "source": [
    "orig_train = pd.read_csv('../data/original/train.csv')\n",
    "orig_test = pd.read_csv('../data/original/test.csv')"
   ]
  },
  {
   "cell_type": "code",
   "execution_count": 18,
   "metadata": {},
   "outputs": [
    {
     "data": {
      "text/plain": [
       "0                                    Старший специалист\n",
       "1                                 Менеджер по персоналу\n",
       "2                                      Тренинг-менеджер\n",
       "3                              Специалист отдела кадров\n",
       "4                                       Бизнес-аналитик\n",
       "5     Ведущий экономист группы диспетчеризации, норм...\n",
       "6                                     Делопроизводитель\n",
       "7                                              Оператор\n",
       "8                                       Оператор склада\n",
       "9                                                   NaN\n",
       "10                                    Директор магазина\n",
       "11                               Специалист по закупкам\n",
       "12                                        Администратор\n",
       "13    Директор по продажам и маркетингу автомобильно...\n",
       "14                 Специалист Отдела поддержки клиентов\n",
       "15                                        Комплектовщик\n",
       "16                                  Представитель банка\n",
       "17                                              Медбрат\n",
       "18           Младший специалист департамента маркетинга\n",
       "19                                           Специалист\n",
       "20                     Специалист по работе с клиентами\n",
       "21                Менеджер по digital проектам обучения\n",
       "22    Начальник участка строительства, главный ижене...\n",
       "23                               Менеджер отдела продаж\n",
       "24    Главный менеджер по продажам и обсуживанию юри...\n",
       "25                                                  NaN\n",
       "26                                  Сортировщик сдатчик\n",
       "27                                              Грузчик\n",
       "28                                  Помощник бурильщика\n",
       "29                                         Руководитель\n",
       "Name: position, dtype: object"
      ]
     },
     "execution_count": 18,
     "metadata": {},
     "output_type": "execute_result"
    }
   ],
   "source": [
    "orig_test[POSITION].head(30)"
   ]
  },
  {
   "cell_type": "code",
   "execution_count": 4,
   "metadata": {},
   "outputs": [],
   "source": [
    "data = pd.concat((train.assign(kind='train'), test.assign(kind='test')))"
   ]
  },
  {
   "cell_type": "code",
   "execution_count": 6,
   "metadata": {},
   "outputs": [],
   "source": [
    "from sklearn.model_selection import train_test_split"
   ]
  },
  {
   "cell_type": "code",
   "execution_count": 13,
   "metadata": {},
   "outputs": [],
   "source": [
    "cv = [tuple(train_test_split(data.index, test_size=0.3, random_state=42, stratify=data[CITY]))]"
   ]
  },
  {
   "cell_type": "code",
   "execution_count": 19,
   "metadata": {},
   "outputs": [
    {
     "data": {
      "text/plain": [
       "Int64Index([185779,  42163,  22664,  87490, 188471, 159130,  98257, 142425,\n",
       "            121281, 161059,\n",
       "            ...\n",
       "             18917,  76601, 185964, 176107,  44017, 103577, 161499,  84484,\n",
       "            152856, 116961],\n",
       "           dtype='int64', name='review_id', length=30459)"
      ]
     },
     "execution_count": 19,
     "metadata": {},
     "output_type": "execute_result"
    }
   ],
   "source": [
    "cv[0][1]"
   ]
  },
  {
   "cell_type": "code",
   "execution_count": 5,
   "metadata": {},
   "outputs": [
    {
     "data": {
      "text/plain": [
       "ANOTHER                                        20585\n",
       "NA                                              6885\n",
       "Продавец-консультант                            4455\n",
       "Продавец-кассир                                 2970\n",
       "Менеджер по продажам                            1984\n",
       "                                               ...  \n",
       "Директор проекта                                   2\n",
       "Оператор мкс                                       2\n",
       "Специалист по продажам недвижимости                2\n",
       "Специалист по продажам финансовых продуктов        2\n",
       "Стажер отдела аудита                               2\n",
       "Name: position, Length: 3217, dtype: int64"
      ]
     },
     "execution_count": 5,
     "metadata": {},
     "output_type": "execute_result"
    }
   ],
   "source": [
    "data[POSITION].value_counts()"
   ]
  },
  {
   "cell_type": "code",
   "execution_count": 44,
   "metadata": {},
   "outputs": [
    {
     "data": {
      "text/plain": [
       "['salary_rating',\n",
       " 'team_rating',\n",
       " 'managment_rating',\n",
       " 'career_rating',\n",
       " 'workplace_rating',\n",
       " 'rest_recovery_rating']"
      ]
     },
     "execution_count": 44,
     "metadata": {},
     "output_type": "execute_result"
    }
   ],
   "source": [
    "ORDERED_CATEGORIES"
   ]
  },
  {
   "cell_type": "code",
   "execution_count": 46,
   "metadata": {},
   "outputs": [
    {
     "data": {
      "text/html": [
       "<div>\n",
       "<style scoped>\n",
       "    .dataframe tbody tr th:only-of-type {\n",
       "        vertical-align: middle;\n",
       "    }\n",
       "\n",
       "    .dataframe tbody tr th {\n",
       "        vertical-align: top;\n",
       "    }\n",
       "\n",
       "    .dataframe thead th {\n",
       "        text-align: right;\n",
       "    }\n",
       "</style>\n",
       "<table border=\"1\" class=\"dataframe\">\n",
       "  <thead>\n",
       "    <tr style=\"text-align: right;\">\n",
       "      <th>kind</th>\n",
       "      <th>test</th>\n",
       "      <th>train</th>\n",
       "      <th>diff</th>\n",
       "      <th>diff_rel</th>\n",
       "    </tr>\n",
       "    <tr>\n",
       "      <th>rest_recovery_rating</th>\n",
       "      <th></th>\n",
       "      <th></th>\n",
       "      <th></th>\n",
       "      <th></th>\n",
       "    </tr>\n",
       "  </thead>\n",
       "  <tbody>\n",
       "    <tr>\n",
       "      <th>3</th>\n",
       "      <td>7163</td>\n",
       "      <td>6037</td>\n",
       "      <td>-1126</td>\n",
       "      <td>-0.170606</td>\n",
       "    </tr>\n",
       "    <tr>\n",
       "      <th>2</th>\n",
       "      <td>5243</td>\n",
       "      <td>4577</td>\n",
       "      <td>-666</td>\n",
       "      <td>-0.135642</td>\n",
       "    </tr>\n",
       "    <tr>\n",
       "      <th>1</th>\n",
       "      <td>12137</td>\n",
       "      <td>11714</td>\n",
       "      <td>-423</td>\n",
       "      <td>-0.035470</td>\n",
       "    </tr>\n",
       "    <tr>\n",
       "      <th>5</th>\n",
       "      <td>18706</td>\n",
       "      <td>20305</td>\n",
       "      <td>1599</td>\n",
       "      <td>0.081977</td>\n",
       "    </tr>\n",
       "    <tr>\n",
       "      <th>4</th>\n",
       "      <td>7402</td>\n",
       "      <td>8243</td>\n",
       "      <td>841</td>\n",
       "      <td>0.107510</td>\n",
       "    </tr>\n",
       "  </tbody>\n",
       "</table>\n",
       "</div>"
      ],
      "text/plain": [
       "kind                   test  train  diff  diff_rel\n",
       "rest_recovery_rating                              \n",
       "3                      7163   6037 -1126 -0.170606\n",
       "2                      5243   4577  -666 -0.135642\n",
       "1                     12137  11714  -423 -0.035470\n",
       "5                     18706  20305  1599  0.081977\n",
       "4                      7402   8243   841  0.107510"
      ]
     },
     "execution_count": 46,
     "metadata": {},
     "output_type": "execute_result"
    }
   ],
   "source": [
    "idx = 5\n",
    "grb = data.groupby(['kind', ORDERED_CATEGORIES[idx]])[ORDERED_CATEGORIES[idx]].count().unstack('kind')\n",
    "grb['diff'] = grb['train'] - grb['test']\n",
    "grb['diff_rel'] = grb['diff'] / ((grb['train'] + grb['test'])/2)\n",
    "\n",
    "grb.sort_values('diff_rel')"
   ]
  }
 ],
 "metadata": {
  "interpreter": {
   "hash": "3d597f4c481aa0f25dceb95d2a0067e73c0966dcbd003d741d821a7208527ecf"
  },
  "kernelspec": {
   "display_name": "Python 3.9.5 64-bit ('base': conda)",
   "language": "python",
   "name": "python3"
  },
  "language_info": {
   "codemirror_mode": {
    "name": "ipython",
    "version": 3
   },
   "file_extension": ".py",
   "mimetype": "text/x-python",
   "name": "python",
   "nbconvert_exporter": "python",
   "pygments_lexer": "ipython3",
   "version": "3.9.5"
  },
  "orig_nbformat": 4
 },
 "nbformat": 4,
 "nbformat_minor": 2
}
