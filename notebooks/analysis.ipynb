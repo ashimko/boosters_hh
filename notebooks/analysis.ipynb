{
 "cells": [
  {
   "cell_type": "code",
   "execution_count": 1,
   "metadata": {},
   "outputs": [],
   "source": [
    "import sys\n",
    "sys.path.insert(0, '../..')"
   ]
  },
  {
   "cell_type": "code",
   "execution_count": 45,
   "metadata": {},
   "outputs": [],
   "source": [
    "import pandas as pd\n",
    "import numpy as np\n",
    "from sklearn.metrics import f1_score\n",
    "from iterstrat.ml_stratifiers import MultilabelStratifiedKFold\n",
    "from config import RANDOM_STATE, N_SPLITS\n",
    "from evaluate import get_pred_labels\n",
    "from helper import _process_pred_labels"
   ]
  },
  {
   "cell_type": "code",
   "execution_count": 30,
   "metadata": {},
   "outputs": [],
   "source": [
    "NAME = 'keras'\n",
    "oof_pred_proba = pd.read_csv(f'../../oof_predictions/{NAME}/{NAME}_pred_proba.csv', index_col='review_id')\n",
    "oof_pred_labels = pd.read_csv(f'../../oof_predictions/{NAME}/{NAME}_pred_labels.csv', index_col='review_id')\n",
    "test_pred_proba = pd.read_csv(f'../../test_predictions/{NAME}/{NAME}_pred_proba.csv', index_col='review_id')\n",
    "test_pred_labels = pd.read_csv(f'../../test_predictions/{NAME}/{NAME}_pred_labels.csv', index_col='review_id')\n",
    "target = pd.read_pickle('../../data/prepared/target.pkl')"
   ]
  },
  {
   "cell_type": "code",
   "execution_count": 10,
   "metadata": {},
   "outputs": [
    {
     "data": {
      "text/html": [
       "<div>\n",
       "<style scoped>\n",
       "    .dataframe tbody tr th:only-of-type {\n",
       "        vertical-align: middle;\n",
       "    }\n",
       "\n",
       "    .dataframe tbody tr th {\n",
       "        vertical-align: top;\n",
       "    }\n",
       "\n",
       "    .dataframe thead th {\n",
       "        text-align: right;\n",
       "    }\n",
       "</style>\n",
       "<table border=\"1\" class=\"dataframe\">\n",
       "  <thead>\n",
       "    <tr style=\"text-align: right;\">\n",
       "      <th></th>\n",
       "      <th>0</th>\n",
       "      <th>1</th>\n",
       "      <th>2</th>\n",
       "      <th>3</th>\n",
       "      <th>4</th>\n",
       "      <th>5</th>\n",
       "      <th>6</th>\n",
       "      <th>7</th>\n",
       "      <th>8</th>\n",
       "    </tr>\n",
       "    <tr>\n",
       "      <th>review_id</th>\n",
       "      <th></th>\n",
       "      <th></th>\n",
       "      <th></th>\n",
       "      <th></th>\n",
       "      <th></th>\n",
       "      <th></th>\n",
       "      <th></th>\n",
       "      <th></th>\n",
       "      <th></th>\n",
       "    </tr>\n",
       "  </thead>\n",
       "  <tbody>\n",
       "    <tr>\n",
       "      <th>0</th>\n",
       "      <td>1</td>\n",
       "      <td>0</td>\n",
       "      <td>1</td>\n",
       "      <td>0</td>\n",
       "      <td>1</td>\n",
       "      <td>0</td>\n",
       "      <td>0</td>\n",
       "      <td>0</td>\n",
       "      <td>0</td>\n",
       "    </tr>\n",
       "    <tr>\n",
       "      <th>1</th>\n",
       "      <td>0</td>\n",
       "      <td>0</td>\n",
       "      <td>1</td>\n",
       "      <td>0</td>\n",
       "      <td>1</td>\n",
       "      <td>0</td>\n",
       "      <td>0</td>\n",
       "      <td>0</td>\n",
       "      <td>1</td>\n",
       "    </tr>\n",
       "    <tr>\n",
       "      <th>2</th>\n",
       "      <td>1</td>\n",
       "      <td>0</td>\n",
       "      <td>1</td>\n",
       "      <td>0</td>\n",
       "      <td>1</td>\n",
       "      <td>0</td>\n",
       "      <td>0</td>\n",
       "      <td>0</td>\n",
       "      <td>0</td>\n",
       "    </tr>\n",
       "    <tr>\n",
       "      <th>5</th>\n",
       "      <td>1</td>\n",
       "      <td>0</td>\n",
       "      <td>1</td>\n",
       "      <td>0</td>\n",
       "      <td>1</td>\n",
       "      <td>0</td>\n",
       "      <td>0</td>\n",
       "      <td>0</td>\n",
       "      <td>0</td>\n",
       "    </tr>\n",
       "    <tr>\n",
       "      <th>7</th>\n",
       "      <td>0</td>\n",
       "      <td>0</td>\n",
       "      <td>1</td>\n",
       "      <td>0</td>\n",
       "      <td>1</td>\n",
       "      <td>0</td>\n",
       "      <td>0</td>\n",
       "      <td>0</td>\n",
       "      <td>1</td>\n",
       "    </tr>\n",
       "  </tbody>\n",
       "</table>\n",
       "</div>"
      ],
      "text/plain": [
       "           0  1  2  3  4  5  6  7  8\n",
       "review_id                           \n",
       "0          1  0  1  0  1  0  0  0  0\n",
       "1          0  0  1  0  1  0  0  0  1\n",
       "2          1  0  1  0  1  0  0  0  0\n",
       "5          1  0  1  0  1  0  0  0  0\n",
       "7          0  0  1  0  1  0  0  0  1"
      ]
     },
     "execution_count": 10,
     "metadata": {},
     "output_type": "execute_result"
    }
   ],
   "source": [
    "oof_pred_labels.head()"
   ]
  },
  {
   "cell_type": "code",
   "execution_count": 31,
   "metadata": {},
   "outputs": [],
   "source": [
    "def get_tresholds(y_true: pd.DataFrame, y_pred: pd.DataFrame) -> pd.DataFrame:\n",
    "    y_pred_labels = pd.DataFrame(np.zeros_like(y_true, dtype=np.int8), index=y_true.index, columns=y_true.columns)\n",
    "    best_tresholds = {}\n",
    "    for col in y_true.columns:\n",
    "        candidates = [0.0] + y_pred[col].round(2).sort_values().unique().tolist() + [1.0]\n",
    "        scores = [f1_score(y_true[col].values, np.where(y_pred[col].values >= tresh, 1, 0))\n",
    "                  for tresh in candidates]\n",
    "        idx = np.argmax(scores)\n",
    "        best_score = scores[idx]\n",
    "        best_treshold = candidates[idx]\n",
    "        best_tresholds[col] = best_treshold\n",
    "        y_pred_labels.loc[:, col] = np.where(y_pred[col] >= best_treshold, 1, 0)\n",
    "        print(f'col {col}, best_score {best_score}, best_treshold {best_treshold}')\n",
    "    \n",
    "    print('f1 samples', f1_score(y_true, y_pred_labels, average='samples', zero_division=0))\n",
    "    return best_tresholds"
   ]
  },
  {
   "cell_type": "code",
   "execution_count": 19,
   "metadata": {},
   "outputs": [],
   "source": [
    "def get_tresholds2(y_true: pd.DataFrame, y_pred: pd.DataFrame) -> pd.DataFrame:\n",
    "    candidates = np.unique(oof_pred_proba.round(3).values)\n",
    "    scores = [f1_score(y_true.values, np.where(y_pred.values >= tresh, 1, 0), average='samples', zero_division=0)\n",
    "              for tresh in candidates]\n",
    "    idx = np.argmax(scores)\n",
    "    best_score = scores[idx]\n",
    "    best_treshold = candidates[idx]\n",
    "    print(f'best_score {best_score}, best_treshold {best_treshold}')\n",
    "\n",
    "    return best_treshold"
   ]
  },
  {
   "cell_type": "code",
   "execution_count": 32,
   "metadata": {},
   "outputs": [
    {
     "name": "stdout",
     "output_type": "stream",
     "text": [
      "best_score 0.8394803050554289, best_treshold 0.311\n"
     ]
    }
   ],
   "source": [
    "best_treshold = get_tresholds2(target, oof_pred_proba)"
   ]
  },
  {
   "cell_type": "code",
   "execution_count": 33,
   "metadata": {},
   "outputs": [
    {
     "name": "stdout",
     "output_type": "stream",
     "text": [
      "col 0, best_score 0.8609808827458888, best_treshold 0.46\n",
      "col 1, best_score 0.5058885108610311, best_treshold 0.23\n",
      "col 2, best_score 0.005813953488372093, best_treshold 0.01\n",
      "col 3, best_score 0.715919085312225, best_treshold 0.3\n",
      "col 4, best_score 0.05242463958060289, best_treshold 0.02\n",
      "col 5, best_score 0.29652042360060515, best_treshold 0.11\n",
      "col 6, best_score 0.32757557063541026, best_treshold 0.11\n",
      "col 7, best_score 0.35225618631732164, best_treshold 0.12\n",
      "col 8, best_score 0.8666397145418433, best_treshold 0.45\n",
      "f1 samples 0.8285118376831562\n"
     ]
    }
   ],
   "source": [
    "best_tresholds = get_tresholds(target, oof_pred_proba)"
   ]
  },
  {
   "cell_type": "code",
   "execution_count": 26,
   "metadata": {},
   "outputs": [
    {
     "data": {
      "text/plain": [
       "0.8325586049866653"
      ]
     },
     "execution_count": 26,
     "metadata": {},
     "output_type": "execute_result"
    }
   ],
   "source": [
    "f1_score(target, get_pred_labels(oof_pred_proba.values), average='samples', zero_division=0)"
   ]
  },
  {
   "cell_type": "code",
   "execution_count": 29,
   "metadata": {},
   "outputs": [
    {
     "data": {
      "text/html": [
       "<div>\n",
       "<style scoped>\n",
       "    .dataframe tbody tr th:only-of-type {\n",
       "        vertical-align: middle;\n",
       "    }\n",
       "\n",
       "    .dataframe tbody tr th {\n",
       "        vertical-align: top;\n",
       "    }\n",
       "\n",
       "    .dataframe thead th {\n",
       "        text-align: right;\n",
       "    }\n",
       "</style>\n",
       "<table border=\"1\" class=\"dataframe\">\n",
       "  <thead>\n",
       "    <tr style=\"text-align: right;\">\n",
       "      <th></th>\n",
       "      <th>0</th>\n",
       "      <th>1</th>\n",
       "      <th>2</th>\n",
       "      <th>3</th>\n",
       "      <th>4</th>\n",
       "      <th>5</th>\n",
       "      <th>6</th>\n",
       "      <th>7</th>\n",
       "      <th>8</th>\n",
       "    </tr>\n",
       "  </thead>\n",
       "  <tbody>\n",
       "    <tr>\n",
       "      <th>min</th>\n",
       "      <td>0.0</td>\n",
       "      <td>0.0000</td>\n",
       "      <td>0.0000</td>\n",
       "      <td>0.0000</td>\n",
       "      <td>0.00</td>\n",
       "      <td>0.0000</td>\n",
       "      <td>0.0000</td>\n",
       "      <td>0.0000</td>\n",
       "      <td>0.0000</td>\n",
       "    </tr>\n",
       "    <tr>\n",
       "      <th>max</th>\n",
       "      <td>1.0</td>\n",
       "      <td>0.9768</td>\n",
       "      <td>0.0349</td>\n",
       "      <td>0.9942</td>\n",
       "      <td>0.16</td>\n",
       "      <td>0.9879</td>\n",
       "      <td>0.8916</td>\n",
       "      <td>0.9772</td>\n",
       "      <td>0.9993</td>\n",
       "    </tr>\n",
       "  </tbody>\n",
       "</table>\n",
       "</div>"
      ],
      "text/plain": [
       "       0       1       2       3     4       5       6       7       8\n",
       "min  0.0  0.0000  0.0000  0.0000  0.00  0.0000  0.0000  0.0000  0.0000\n",
       "max  1.0  0.9768  0.0349  0.9942  0.16  0.9879  0.8916  0.9772  0.9993"
      ]
     },
     "execution_count": 29,
     "metadata": {},
     "output_type": "execute_result"
    }
   ],
   "source": [
    "oof_pred_proba.agg(['min', 'max']).round(4)"
   ]
  },
  {
   "cell_type": "code",
   "execution_count": null,
   "metadata": {},
   "outputs": [],
   "source": [
    "oof_pred_proba"
   ]
  },
  {
   "cell_type": "code",
   "execution_count": 37,
   "metadata": {},
   "outputs": [],
   "source": [
    "test_blind_pred_labels = get_pred_labels(test_pred_proba.values)"
   ]
  },
  {
   "cell_type": "code",
   "execution_count": 48,
   "metadata": {},
   "outputs": [
    {
     "data": {
      "text/plain": [
       "review_id\n",
       "3       8\n",
       "4       8\n",
       "13      8\n",
       "14      0\n",
       "17    0,8\n",
       "Name: target, dtype: object"
      ]
     },
     "execution_count": 48,
     "metadata": {},
     "output_type": "execute_result"
    }
   ],
   "source": []
  },
  {
   "cell_type": "code",
   "execution_count": 49,
   "metadata": {},
   "outputs": [],
   "source": [
    "(pd.DataFrame(\n",
    "    data=test_blind_pred_labels, \n",
    "    index=test_pred_proba.index, \n",
    "    columns=test_pred_proba.columns)\n",
    ".apply(_process_pred_labels, axis=1)\n",
    ".rename('target')\n",
    ".to_csv('keras_samll_labse_test_blind_pred_labels.csv'))"
   ]
  },
  {
   "cell_type": "code",
   "execution_count": 51,
   "metadata": {},
   "outputs": [],
   "source": [
    "test_col_by_col_pred_labels = pd.DataFrame(data=np.zeros_like(test_pred_proba), columns=test_pred_proba.columns, index=test_pred_proba.index)\n",
    "for col in target.columns:\n",
    "    test_col_by_col_pred_labels[col] = np.where(test_pred_proba[col].values >= best_tresholds[col], 1, 0)"
   ]
  },
  {
   "cell_type": "code",
   "execution_count": 52,
   "metadata": {},
   "outputs": [],
   "source": [
    "(test_col_by_col_pred_labels\n",
    ".apply(_process_pred_labels, axis=1)\n",
    ".rename('target')\n",
    ".to_csv('keras_samll_labse_test_col_by_col_pred_labels.csv'))"
   ]
  },
  {
   "cell_type": "code",
   "execution_count": 54,
   "metadata": {},
   "outputs": [
    {
     "data": {
      "text/html": [
       "<div>\n",
       "<style scoped>\n",
       "    .dataframe tbody tr th:only-of-type {\n",
       "        vertical-align: middle;\n",
       "    }\n",
       "\n",
       "    .dataframe tbody tr th {\n",
       "        vertical-align: top;\n",
       "    }\n",
       "\n",
       "    .dataframe thead th {\n",
       "        text-align: right;\n",
       "    }\n",
       "</style>\n",
       "<table border=\"1\" class=\"dataframe\">\n",
       "  <thead>\n",
       "    <tr style=\"text-align: right;\">\n",
       "      <th></th>\n",
       "      <th>0</th>\n",
       "      <th>1</th>\n",
       "      <th>2</th>\n",
       "      <th>3</th>\n",
       "      <th>4</th>\n",
       "      <th>5</th>\n",
       "      <th>6</th>\n",
       "      <th>7</th>\n",
       "      <th>8</th>\n",
       "    </tr>\n",
       "    <tr>\n",
       "      <th>review_id</th>\n",
       "      <th></th>\n",
       "      <th></th>\n",
       "      <th></th>\n",
       "      <th></th>\n",
       "      <th></th>\n",
       "      <th></th>\n",
       "      <th></th>\n",
       "      <th></th>\n",
       "      <th></th>\n",
       "    </tr>\n",
       "  </thead>\n",
       "  <tbody>\n",
       "    <tr>\n",
       "      <th>3</th>\n",
       "      <td>0</td>\n",
       "      <td>0</td>\n",
       "      <td>0</td>\n",
       "      <td>0</td>\n",
       "      <td>0</td>\n",
       "      <td>0</td>\n",
       "      <td>0</td>\n",
       "      <td>0</td>\n",
       "      <td>1</td>\n",
       "    </tr>\n",
       "    <tr>\n",
       "      <th>4</th>\n",
       "      <td>1</td>\n",
       "      <td>0</td>\n",
       "      <td>0</td>\n",
       "      <td>0</td>\n",
       "      <td>0</td>\n",
       "      <td>0</td>\n",
       "      <td>0</td>\n",
       "      <td>0</td>\n",
       "      <td>1</td>\n",
       "    </tr>\n",
       "    <tr>\n",
       "      <th>13</th>\n",
       "      <td>0</td>\n",
       "      <td>0</td>\n",
       "      <td>0</td>\n",
       "      <td>0</td>\n",
       "      <td>0</td>\n",
       "      <td>0</td>\n",
       "      <td>0</td>\n",
       "      <td>0</td>\n",
       "      <td>1</td>\n",
       "    </tr>\n",
       "    <tr>\n",
       "      <th>14</th>\n",
       "      <td>1</td>\n",
       "      <td>0</td>\n",
       "      <td>0</td>\n",
       "      <td>0</td>\n",
       "      <td>0</td>\n",
       "      <td>0</td>\n",
       "      <td>0</td>\n",
       "      <td>0</td>\n",
       "      <td>0</td>\n",
       "    </tr>\n",
       "    <tr>\n",
       "      <th>17</th>\n",
       "      <td>1</td>\n",
       "      <td>0</td>\n",
       "      <td>0</td>\n",
       "      <td>0</td>\n",
       "      <td>0</td>\n",
       "      <td>0</td>\n",
       "      <td>0</td>\n",
       "      <td>0</td>\n",
       "      <td>1</td>\n",
       "    </tr>\n",
       "  </tbody>\n",
       "</table>\n",
       "</div>"
      ],
      "text/plain": [
       "           0  1  2  3  4  5  6  7  8\n",
       "review_id                           \n",
       "3          0  0  0  0  0  0  0  0  1\n",
       "4          1  0  0  0  0  0  0  0  1\n",
       "13         0  0  0  0  0  0  0  0  1\n",
       "14         1  0  0  0  0  0  0  0  0\n",
       "17         1  0  0  0  0  0  0  0  1"
      ]
     },
     "execution_count": 54,
     "metadata": {},
     "output_type": "execute_result"
    }
   ],
   "source": [
    "test_one_tresh_labels = pd.DataFrame(data=np.zeros_like(test_pred_proba, dtype=np.int8), columns=test_pred_proba.columns, index=test_pred_proba.index)\n",
    "test_one_tresh_labels.loc[:, :] = np.where(test_pred_proba.values >= best_treshold, 1, 0)\n",
    "test_one_tresh_labels.head()"
   ]
  },
  {
   "cell_type": "code",
   "execution_count": 55,
   "metadata": {},
   "outputs": [],
   "source": [
    "(test_one_tresh_labels\n",
    ".apply(_process_pred_labels, axis=1)\n",
    ".rename('target')\n",
    ".to_csv('keras_samll_labse_test_one_tresh_labels.csv'))"
   ]
  }
 ],
 "metadata": {
  "interpreter": {
   "hash": "04d48c12bfbca8a14a4066630f6d13e81276286aa1e28ae9f6bc2bde884e5eee"
  },
  "kernelspec": {
   "display_name": "Python 3.9.5 64-bit ('base': conda)",
   "language": "python",
   "name": "python3"
  },
  "language_info": {
   "codemirror_mode": {
    "name": "ipython",
    "version": 3
   },
   "file_extension": ".py",
   "mimetype": "text/x-python",
   "name": "python",
   "nbconvert_exporter": "python",
   "pygments_lexer": "ipython3",
   "version": "3.9.5"
  },
  "orig_nbformat": 4
 },
 "nbformat": 4,
 "nbformat_minor": 2
}
