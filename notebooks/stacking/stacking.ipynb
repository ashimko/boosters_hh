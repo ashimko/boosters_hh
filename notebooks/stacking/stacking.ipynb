{
 "cells": [
  {
   "cell_type": "code",
   "execution_count": 122,
   "metadata": {},
   "outputs": [],
   "source": [
    "import sys\n",
    "sys.path.insert(0, '../..')\n",
    "from helper import _process_pred_labels\n",
    "from evaluate import get_pred_labels"
   ]
  },
  {
   "cell_type": "code",
   "execution_count": 123,
   "metadata": {},
   "outputs": [],
   "source": [
    "import os\n",
    "import pandas as pd\n",
    "import numpy as np"
   ]
  },
  {
   "cell_type": "code",
   "execution_count": 139,
   "metadata": {},
   "outputs": [],
   "source": [
    "from sklearn.linear_model import LogisticRegression, ElasticNet\n",
    "from sklearn.multioutput import MultiOutputClassifier\n",
    "from sklearn.model_selection import cross_validate, GridSearchCV\n",
    "from sklearn.svm import LinearSVC, SVC\n",
    "from sklearn.calibration import CalibratedClassifierCV\n",
    "from catboost import CatBoostClassifier\n",
    "from lightgbm import LGBMClassifier\n",
    "from xgboost import XGBClassifier"
   ]
  },
  {
   "cell_type": "code",
   "execution_count": 142,
   "metadata": {},
   "outputs": [],
   "source": [
    "N_FILES = 2"
   ]
  },
  {
   "cell_type": "code",
   "execution_count": 125,
   "metadata": {},
   "outputs": [],
   "source": [
    "target = pd.read_pickle('../../data/prepared/target.pkl')"
   ]
  },
  {
   "cell_type": "code",
   "execution_count": 148,
   "metadata": {},
   "outputs": [],
   "source": [
    "train = []\n",
    "for i in range(N_FILES):\n",
    "    df = pd.read_csv(f'oof_{i}/pred_proba.csv', index_col='review_id')\n",
    "    df.columns = [f'{i}_{col}' for col in df.columns]\n",
    "    df = df.rank(ascending=False) / len(df)\n",
    "    train.append(df)\n",
    "train = pd.concat(train, axis=1)"
   ]
  },
  {
   "cell_type": "code",
   "execution_count": 149,
   "metadata": {},
   "outputs": [],
   "source": [
    "test = []\n",
    "for i in range(N_FILES):\n",
    "    df = pd.read_csv(f'sub_{i}/pred_proba.csv', index_col='review_id')\n",
    "    df.columns = [f'{i}_{col}' for col in df.columns]\n",
    "    df = df.rank(ascending=False) / len(df)\n",
    "    test.append(df)\n",
    "test = pd.concat(test, axis=1)"
   ]
  },
  {
   "cell_type": "code",
   "execution_count": 153,
   "metadata": {},
   "outputs": [
    {
     "name": "stdout",
     "output_type": "stream",
     "text": [
      "Fitting 5 folds for each of 40 candidates, totalling 200 fits\n",
      "[CV 1/5] END estimator__C=2.256614501638116, estimator__max_iter=1000, estimator__penalty=l2, estimator__solver=liblinear;, score=0.834 total time=   1.0s\n",
      "[CV 2/5] END estimator__C=2.256614501638116, estimator__max_iter=1000, estimator__penalty=l2, estimator__solver=liblinear;, score=0.836 total time=   0.8s\n",
      "[CV 3/5] END estimator__C=2.256614501638116, estimator__max_iter=1000, estimator__penalty=l2, estimator__solver=liblinear;, score=0.833 total time=   0.8s\n",
      "[CV 4/5] END estimator__C=2.256614501638116, estimator__max_iter=1000, estimator__penalty=l2, estimator__solver=liblinear;, score=0.837 total time=   0.7s\n",
      "[CV 5/5] END estimator__C=2.256614501638116, estimator__max_iter=1000, estimator__penalty=l2, estimator__solver=liblinear;, score=0.822 total time=   0.8s\n",
      "[CV 1/5] END estimator__C=2.256614501638116, estimator__max_iter=1000, estimator__penalty=l1, estimator__solver=liblinear;, score=0.834 total time=   8.1s\n",
      "[CV 2/5] END estimator__C=2.256614501638116, estimator__max_iter=1000, estimator__penalty=l1, estimator__solver=liblinear;, score=0.838 total time=   7.8s\n",
      "[CV 3/5] END estimator__C=2.256614501638116, estimator__max_iter=1000, estimator__penalty=l1, estimator__solver=liblinear;, score=0.833 total time=   8.4s\n",
      "[CV 4/5] END estimator__C=2.256614501638116, estimator__max_iter=1000, estimator__penalty=l1, estimator__solver=liblinear;, score=0.838 total time=   8.2s\n",
      "[CV 5/5] END estimator__C=2.256614501638116, estimator__max_iter=1000, estimator__penalty=l1, estimator__solver=liblinear;, score=0.822 total time=   8.9s\n",
      "[CV 1/5] END estimator__C=3.615695768004426, estimator__max_iter=1000, estimator__penalty=l2, estimator__solver=liblinear;, score=0.834 total time=   1.0s\n",
      "[CV 2/5] END estimator__C=3.615695768004426, estimator__max_iter=1000, estimator__penalty=l2, estimator__solver=liblinear;, score=0.837 total time=   0.8s\n",
      "[CV 3/5] END estimator__C=3.615695768004426, estimator__max_iter=1000, estimator__penalty=l2, estimator__solver=liblinear;, score=0.833 total time=   0.8s\n",
      "[CV 4/5] END estimator__C=3.615695768004426, estimator__max_iter=1000, estimator__penalty=l2, estimator__solver=liblinear;, score=0.838 total time=   0.7s\n",
      "[CV 5/5] END estimator__C=3.615695768004426, estimator__max_iter=1000, estimator__penalty=l2, estimator__solver=liblinear;, score=0.822 total time=   0.8s\n",
      "[CV 1/5] END estimator__C=3.615695768004426, estimator__max_iter=1000, estimator__penalty=l1, estimator__solver=liblinear;, score=0.834 total time=   8.7s\n",
      "[CV 2/5] END estimator__C=3.615695768004426, estimator__max_iter=1000, estimator__penalty=l1, estimator__solver=liblinear;, score=0.838 total time=   9.2s\n",
      "[CV 3/5] END estimator__C=3.615695768004426, estimator__max_iter=1000, estimator__penalty=l1, estimator__solver=liblinear;, score=0.834 total time=  10.5s\n",
      "[CV 4/5] END estimator__C=3.615695768004426, estimator__max_iter=1000, estimator__penalty=l1, estimator__solver=liblinear;, score=0.838 total time=   7.8s\n",
      "[CV 5/5] END estimator__C=3.615695768004426, estimator__max_iter=1000, estimator__penalty=l1, estimator__solver=liblinear;, score=0.822 total time=   9.4s\n",
      "[CV 1/5] END estimator__C=1.0521270927328747, estimator__max_iter=1000, estimator__penalty=l2, estimator__solver=liblinear;, score=0.833 total time=   0.7s\n",
      "[CV 2/5] END estimator__C=1.0521270927328747, estimator__max_iter=1000, estimator__penalty=l2, estimator__solver=liblinear;, score=0.835 total time=   0.7s\n",
      "[CV 3/5] END estimator__C=1.0521270927328747, estimator__max_iter=1000, estimator__penalty=l2, estimator__solver=liblinear;, score=0.832 total time=   0.7s\n",
      "[CV 4/5] END estimator__C=1.0521270927328747, estimator__max_iter=1000, estimator__penalty=l2, estimator__solver=liblinear;, score=0.837 total time=   0.7s\n",
      "[CV 5/5] END estimator__C=1.0521270927328747, estimator__max_iter=1000, estimator__penalty=l2, estimator__solver=liblinear;, score=0.821 total time=   0.8s\n",
      "[CV 1/5] END estimator__C=1.0521270927328747, estimator__max_iter=1000, estimator__penalty=l1, estimator__solver=liblinear;, score=0.834 total time=   7.4s\n",
      "[CV 2/5] END estimator__C=1.0521270927328747, estimator__max_iter=1000, estimator__penalty=l1, estimator__solver=liblinear;, score=0.837 total time=   7.6s\n",
      "[CV 3/5] END estimator__C=1.0521270927328747, estimator__max_iter=1000, estimator__penalty=l1, estimator__solver=liblinear;, score=0.833 total time=   7.9s\n",
      "[CV 4/5] END estimator__C=1.0521270927328747, estimator__max_iter=1000, estimator__penalty=l1, estimator__solver=liblinear;, score=0.838 total time=   7.0s\n",
      "[CV 5/5] END estimator__C=1.0521270927328747, estimator__max_iter=1000, estimator__penalty=l1, estimator__solver=liblinear;, score=0.822 total time=   8.4s\n",
      "[CV 1/5] END estimator__C=3.6559791836317412, estimator__max_iter=1000, estimator__penalty=l2, estimator__solver=liblinear;, score=0.834 total time=   0.8s\n",
      "[CV 2/5] END estimator__C=3.6559791836317412, estimator__max_iter=1000, estimator__penalty=l2, estimator__solver=liblinear;, score=0.837 total time=   0.7s\n",
      "[CV 3/5] END estimator__C=3.6559791836317412, estimator__max_iter=1000, estimator__penalty=l2, estimator__solver=liblinear;, score=0.833 total time=   0.7s\n",
      "[CV 4/5] END estimator__C=3.6559791836317412, estimator__max_iter=1000, estimator__penalty=l2, estimator__solver=liblinear;, score=0.838 total time=   0.7s\n",
      "[CV 5/5] END estimator__C=3.6559791836317412, estimator__max_iter=1000, estimator__penalty=l2, estimator__solver=liblinear;, score=0.822 total time=   0.8s\n",
      "[CV 1/5] END estimator__C=3.6559791836317412, estimator__max_iter=1000, estimator__penalty=l1, estimator__solver=liblinear;, score=0.834 total time=  11.7s\n",
      "[CV 2/5] END estimator__C=3.6559791836317412, estimator__max_iter=1000, estimator__penalty=l1, estimator__solver=liblinear;, score=0.838 total time=  11.0s\n",
      "[CV 3/5] END estimator__C=3.6559791836317412, estimator__max_iter=1000, estimator__penalty=l1, estimator__solver=liblinear;, score=0.834 total time=  11.0s\n",
      "[CV 4/5] END estimator__C=3.6559791836317412, estimator__max_iter=1000, estimator__penalty=l1, estimator__solver=liblinear;, score=0.838 total time=   8.0s\n",
      "[CV 5/5] END estimator__C=3.6559791836317412, estimator__max_iter=1000, estimator__penalty=l1, estimator__solver=liblinear;, score=0.822 total time=   8.2s\n",
      "[CV 1/5] END estimator__C=2.169762844510341, estimator__max_iter=1000, estimator__penalty=l2, estimator__solver=liblinear;, score=0.833 total time=   0.7s\n",
      "[CV 2/5] END estimator__C=2.169762844510341, estimator__max_iter=1000, estimator__penalty=l2, estimator__solver=liblinear;, score=0.836 total time=   0.7s\n",
      "[CV 3/5] END estimator__C=2.169762844510341, estimator__max_iter=1000, estimator__penalty=l2, estimator__solver=liblinear;, score=0.833 total time=   0.8s\n",
      "[CV 4/5] END estimator__C=2.169762844510341, estimator__max_iter=1000, estimator__penalty=l2, estimator__solver=liblinear;, score=0.837 total time=   0.7s\n",
      "[CV 5/5] END estimator__C=2.169762844510341, estimator__max_iter=1000, estimator__penalty=l2, estimator__solver=liblinear;, score=0.822 total time=   0.9s\n",
      "[CV 1/5] END estimator__C=2.169762844510341, estimator__max_iter=1000, estimator__penalty=l1, estimator__solver=liblinear;, score=0.834 total time=   6.8s\n",
      "[CV 2/5] END estimator__C=2.169762844510341, estimator__max_iter=1000, estimator__penalty=l1, estimator__solver=liblinear;, score=0.838 total time=   7.8s\n",
      "[CV 3/5] END estimator__C=2.169762844510341, estimator__max_iter=1000, estimator__penalty=l1, estimator__solver=liblinear;, score=0.833 total time=   8.1s\n",
      "[CV 4/5] END estimator__C=2.169762844510341, estimator__max_iter=1000, estimator__penalty=l1, estimator__solver=liblinear;, score=0.838 total time=   7.5s\n",
      "[CV 5/5] END estimator__C=2.169762844510341, estimator__max_iter=1000, estimator__penalty=l1, estimator__solver=liblinear;, score=0.822 total time=   7.5s\n",
      "[CV 1/5] END estimator__C=2.221340589029422, estimator__max_iter=1000, estimator__penalty=l2, estimator__solver=liblinear;, score=0.834 total time=   0.8s\n",
      "[CV 2/5] END estimator__C=2.221340589029422, estimator__max_iter=1000, estimator__penalty=l2, estimator__solver=liblinear;, score=0.836 total time=   0.7s\n",
      "[CV 3/5] END estimator__C=2.221340589029422, estimator__max_iter=1000, estimator__penalty=l2, estimator__solver=liblinear;, score=0.833 total time=   0.7s\n",
      "[CV 4/5] END estimator__C=2.221340589029422, estimator__max_iter=1000, estimator__penalty=l2, estimator__solver=liblinear;, score=0.837 total time=   0.8s\n",
      "[CV 5/5] END estimator__C=2.221340589029422, estimator__max_iter=1000, estimator__penalty=l2, estimator__solver=liblinear;, score=0.822 total time=   0.8s\n",
      "[CV 1/5] END estimator__C=2.221340589029422, estimator__max_iter=1000, estimator__penalty=l1, estimator__solver=liblinear;, score=0.834 total time=   7.6s\n",
      "[CV 2/5] END estimator__C=2.221340589029422, estimator__max_iter=1000, estimator__penalty=l1, estimator__solver=liblinear;, score=0.838 total time=   7.1s\n",
      "[CV 3/5] END estimator__C=2.221340589029422, estimator__max_iter=1000, estimator__penalty=l1, estimator__solver=liblinear;, score=0.834 total time=   7.5s\n",
      "[CV 4/5] END estimator__C=2.221340589029422, estimator__max_iter=1000, estimator__penalty=l1, estimator__solver=liblinear;, score=0.838 total time=   7.6s\n",
      "[CV 5/5] END estimator__C=2.221340589029422, estimator__max_iter=1000, estimator__penalty=l1, estimator__solver=liblinear;, score=0.822 total time=   8.3s\n",
      "[CV 1/5] END estimator__C=3.457026608030404, estimator__max_iter=1000, estimator__penalty=l2, estimator__solver=liblinear;, score=0.834 total time=   0.8s\n",
      "[CV 2/5] END estimator__C=3.457026608030404, estimator__max_iter=1000, estimator__penalty=l2, estimator__solver=liblinear;, score=0.837 total time=   0.9s\n",
      "[CV 3/5] END estimator__C=3.457026608030404, estimator__max_iter=1000, estimator__penalty=l2, estimator__solver=liblinear;, score=0.833 total time=   0.8s\n",
      "[CV 4/5] END estimator__C=3.457026608030404, estimator__max_iter=1000, estimator__penalty=l2, estimator__solver=liblinear;, score=0.838 total time=   0.7s\n",
      "[CV 5/5] END estimator__C=3.457026608030404, estimator__max_iter=1000, estimator__penalty=l2, estimator__solver=liblinear;, score=0.822 total time=   0.9s\n",
      "[CV 1/5] END estimator__C=3.457026608030404, estimator__max_iter=1000, estimator__penalty=l1, estimator__solver=liblinear;, score=0.834 total time=   9.6s\n",
      "[CV 2/5] END estimator__C=3.457026608030404, estimator__max_iter=1000, estimator__penalty=l1, estimator__solver=liblinear;, score=0.837 total time=   7.3s\n",
      "[CV 3/5] END estimator__C=3.457026608030404, estimator__max_iter=1000, estimator__penalty=l1, estimator__solver=liblinear;, score=0.834 total time=  10.3s\n",
      "[CV 4/5] END estimator__C=3.457026608030404, estimator__max_iter=1000, estimator__penalty=l1, estimator__solver=liblinear;, score=0.838 total time=   9.7s\n",
      "[CV 5/5] END estimator__C=3.457026608030404, estimator__max_iter=1000, estimator__penalty=l1, estimator__solver=liblinear;, score=0.822 total time=  10.8s\n",
      "[CV 1/5] END estimator__C=1.7137127375082903, estimator__max_iter=1000, estimator__penalty=l2, estimator__solver=liblinear;, score=0.833 total time=   0.7s\n",
      "[CV 2/5] END estimator__C=1.7137127375082903, estimator__max_iter=1000, estimator__penalty=l2, estimator__solver=liblinear;, score=0.836 total time=   0.7s\n",
      "[CV 3/5] END estimator__C=1.7137127375082903, estimator__max_iter=1000, estimator__penalty=l2, estimator__solver=liblinear;, score=0.833 total time=   0.9s\n",
      "[CV 4/5] END estimator__C=1.7137127375082903, estimator__max_iter=1000, estimator__penalty=l2, estimator__solver=liblinear;, score=0.837 total time=   0.7s\n",
      "[CV 5/5] END estimator__C=1.7137127375082903, estimator__max_iter=1000, estimator__penalty=l2, estimator__solver=liblinear;, score=0.822 total time=   0.8s\n",
      "[CV 1/5] END estimator__C=1.7137127375082903, estimator__max_iter=1000, estimator__penalty=l1, estimator__solver=liblinear;, score=0.834 total time=   8.0s\n",
      "[CV 2/5] END estimator__C=1.7137127375082903, estimator__max_iter=1000, estimator__penalty=l1, estimator__solver=liblinear;, score=0.838 total time=   8.0s\n",
      "[CV 3/5] END estimator__C=1.7137127375082903, estimator__max_iter=1000, estimator__penalty=l1, estimator__solver=liblinear;, score=0.833 total time=   7.7s\n",
      "[CV 4/5] END estimator__C=1.7137127375082903, estimator__max_iter=1000, estimator__penalty=l1, estimator__solver=liblinear;, score=0.838 total time=   6.9s\n",
      "[CV 5/5] END estimator__C=1.7137127375082903, estimator__max_iter=1000, estimator__penalty=l1, estimator__solver=liblinear;, score=0.822 total time=   6.3s\n",
      "[CV 1/5] END estimator__C=2.313029169803057, estimator__max_iter=1000, estimator__penalty=l2, estimator__solver=liblinear;, score=0.834 total time=   0.7s\n",
      "[CV 2/5] END estimator__C=2.313029169803057, estimator__max_iter=1000, estimator__penalty=l2, estimator__solver=liblinear;, score=0.836 total time=   0.8s\n",
      "[CV 3/5] END estimator__C=2.313029169803057, estimator__max_iter=1000, estimator__penalty=l2, estimator__solver=liblinear;, score=0.833 total time=   0.7s\n",
      "[CV 4/5] END estimator__C=2.313029169803057, estimator__max_iter=1000, estimator__penalty=l2, estimator__solver=liblinear;, score=0.837 total time=   0.7s\n",
      "[CV 5/5] END estimator__C=2.313029169803057, estimator__max_iter=1000, estimator__penalty=l2, estimator__solver=liblinear;, score=0.822 total time=   0.8s\n",
      "[CV 1/5] END estimator__C=2.313029169803057, estimator__max_iter=1000, estimator__penalty=l1, estimator__solver=liblinear;, score=0.834 total time=   8.7s\n",
      "[CV 2/5] END estimator__C=2.313029169803057, estimator__max_iter=1000, estimator__penalty=l1, estimator__solver=liblinear;, score=0.838 total time=  10.2s\n",
      "[CV 3/5] END estimator__C=2.313029169803057, estimator__max_iter=1000, estimator__penalty=l1, estimator__solver=liblinear;, score=0.833 total time=   7.4s\n",
      "[CV 4/5] END estimator__C=2.313029169803057, estimator__max_iter=1000, estimator__penalty=l1, estimator__solver=liblinear;, score=0.838 total time=   6.7s\n",
      "[CV 5/5] END estimator__C=2.313029169803057, estimator__max_iter=1000, estimator__penalty=l1, estimator__solver=liblinear;, score=0.822 total time=   9.3s\n",
      "[CV 1/5] END estimator__C=3.200584050929777, estimator__max_iter=1000, estimator__penalty=l2, estimator__solver=liblinear;, score=0.834 total time=   0.8s\n",
      "[CV 2/5] END estimator__C=3.200584050929777, estimator__max_iter=1000, estimator__penalty=l2, estimator__solver=liblinear;, score=0.837 total time=   0.8s\n",
      "[CV 3/5] END estimator__C=3.200584050929777, estimator__max_iter=1000, estimator__penalty=l2, estimator__solver=liblinear;, score=0.833 total time=   0.7s\n",
      "[CV 4/5] END estimator__C=3.200584050929777, estimator__max_iter=1000, estimator__penalty=l2, estimator__solver=liblinear;, score=0.838 total time=   0.7s\n",
      "[CV 5/5] END estimator__C=3.200584050929777, estimator__max_iter=1000, estimator__penalty=l2, estimator__solver=liblinear;, score=0.822 total time=   0.8s\n",
      "[CV 1/5] END estimator__C=3.200584050929777, estimator__max_iter=1000, estimator__penalty=l1, estimator__solver=liblinear;, score=0.834 total time=   8.1s\n",
      "[CV 2/5] END estimator__C=3.200584050929777, estimator__max_iter=1000, estimator__penalty=l1, estimator__solver=liblinear;, score=0.838 total time=   8.6s\n",
      "[CV 3/5] END estimator__C=3.200584050929777, estimator__max_iter=1000, estimator__penalty=l1, estimator__solver=liblinear;, score=0.834 total time=  11.3s\n",
      "[CV 4/5] END estimator__C=3.200584050929777, estimator__max_iter=1000, estimator__penalty=l1, estimator__solver=liblinear;, score=0.838 total time=   8.8s\n",
      "[CV 5/5] END estimator__C=3.200584050929777, estimator__max_iter=1000, estimator__penalty=l1, estimator__solver=liblinear;, score=0.822 total time=  10.5s\n",
      "[CV 1/5] END estimator__C=0.765391132926769, estimator__max_iter=1000, estimator__penalty=l2, estimator__solver=liblinear;, score=0.833 total time=   0.7s\n",
      "[CV 2/5] END estimator__C=0.765391132926769, estimator__max_iter=1000, estimator__penalty=l2, estimator__solver=liblinear;, score=0.835 total time=   0.7s\n",
      "[CV 3/5] END estimator__C=0.765391132926769, estimator__max_iter=1000, estimator__penalty=l2, estimator__solver=liblinear;, score=0.831 total time=   0.8s\n",
      "[CV 4/5] END estimator__C=0.765391132926769, estimator__max_iter=1000, estimator__penalty=l2, estimator__solver=liblinear;, score=0.837 total time=   0.7s\n",
      "[CV 5/5] END estimator__C=0.765391132926769, estimator__max_iter=1000, estimator__penalty=l2, estimator__solver=liblinear;, score=0.820 total time=   0.7s\n",
      "[CV 1/5] END estimator__C=0.765391132926769, estimator__max_iter=1000, estimator__penalty=l1, estimator__solver=liblinear;, score=0.834 total time=   7.4s\n",
      "[CV 2/5] END estimator__C=0.765391132926769, estimator__max_iter=1000, estimator__penalty=l1, estimator__solver=liblinear;, score=0.837 total time=   6.0s\n",
      "[CV 3/5] END estimator__C=0.765391132926769, estimator__max_iter=1000, estimator__penalty=l1, estimator__solver=liblinear;, score=0.833 total time=   6.8s\n",
      "[CV 4/5] END estimator__C=0.765391132926769, estimator__max_iter=1000, estimator__penalty=l1, estimator__solver=liblinear;, score=0.838 total time=   5.3s\n",
      "[CV 5/5] END estimator__C=0.765391132926769, estimator__max_iter=1000, estimator__penalty=l1, estimator__solver=liblinear;, score=0.822 total time=   6.3s\n",
      "[CV 1/5] END estimator__C=3.2446342152324728, estimator__max_iter=1000, estimator__penalty=l2, estimator__solver=liblinear;, score=0.834 total time=   0.8s\n",
      "[CV 2/5] END estimator__C=3.2446342152324728, estimator__max_iter=1000, estimator__penalty=l2, estimator__solver=liblinear;, score=0.837 total time=   0.7s\n",
      "[CV 3/5] END estimator__C=3.2446342152324728, estimator__max_iter=1000, estimator__penalty=l2, estimator__solver=liblinear;, score=0.833 total time=   0.7s\n",
      "[CV 4/5] END estimator__C=3.2446342152324728, estimator__max_iter=1000, estimator__penalty=l2, estimator__solver=liblinear;, score=0.838 total time=   0.7s\n",
      "[CV 5/5] END estimator__C=3.2446342152324728, estimator__max_iter=1000, estimator__penalty=l2, estimator__solver=liblinear;, score=0.822 total time=   0.8s\n",
      "[CV 1/5] END estimator__C=3.2446342152324728, estimator__max_iter=1000, estimator__penalty=l1, estimator__solver=liblinear;, score=0.834 total time=  12.3s\n",
      "[CV 2/5] END estimator__C=3.2446342152324728, estimator__max_iter=1000, estimator__penalty=l1, estimator__solver=liblinear;, score=0.837 total time=   8.1s\n",
      "[CV 3/5] END estimator__C=3.2446342152324728, estimator__max_iter=1000, estimator__penalty=l1, estimator__solver=liblinear;, score=0.833 total time=  10.0s\n",
      "[CV 4/5] END estimator__C=3.2446342152324728, estimator__max_iter=1000, estimator__penalty=l1, estimator__solver=liblinear;, score=0.838 total time=   7.7s\n",
      "[CV 5/5] END estimator__C=3.2446342152324728, estimator__max_iter=1000, estimator__penalty=l1, estimator__solver=liblinear;, score=0.822 total time=  12.1s\n",
      "[CV 1/5] END estimator__C=3.219683740205041, estimator__max_iter=1000, estimator__penalty=l2, estimator__solver=liblinear;, score=0.834 total time=   0.9s\n",
      "[CV 2/5] END estimator__C=3.219683740205041, estimator__max_iter=1000, estimator__penalty=l2, estimator__solver=liblinear;, score=0.837 total time=   0.8s\n",
      "[CV 3/5] END estimator__C=3.219683740205041, estimator__max_iter=1000, estimator__penalty=l2, estimator__solver=liblinear;, score=0.833 total time=   0.8s\n",
      "[CV 4/5] END estimator__C=3.219683740205041, estimator__max_iter=1000, estimator__penalty=l2, estimator__solver=liblinear;, score=0.838 total time=   0.9s\n",
      "[CV 5/5] END estimator__C=3.219683740205041, estimator__max_iter=1000, estimator__penalty=l2, estimator__solver=liblinear;, score=0.822 total time=   1.1s\n",
      "[CV 1/5] END estimator__C=3.219683740205041, estimator__max_iter=1000, estimator__penalty=l1, estimator__solver=liblinear;, score=0.834 total time=  11.9s\n",
      "[CV 2/5] END estimator__C=3.219683740205041, estimator__max_iter=1000, estimator__penalty=l1, estimator__solver=liblinear;, score=0.838 total time=   7.4s\n",
      "[CV 3/5] END estimator__C=3.219683740205041, estimator__max_iter=1000, estimator__penalty=l1, estimator__solver=liblinear;, score=0.833 total time=   8.4s\n",
      "[CV 4/5] END estimator__C=3.219683740205041, estimator__max_iter=1000, estimator__penalty=l1, estimator__solver=liblinear;, score=0.838 total time=   8.3s\n",
      "[CV 5/5] END estimator__C=3.219683740205041, estimator__max_iter=1000, estimator__penalty=l1, estimator__solver=liblinear;, score=0.822 total time=   9.7s\n",
      "[CV 1/5] END estimator__C=3.2468337908364218, estimator__max_iter=1000, estimator__penalty=l2, estimator__solver=liblinear;, score=0.834 total time=   0.8s\n",
      "[CV 2/5] END estimator__C=3.2468337908364218, estimator__max_iter=1000, estimator__penalty=l2, estimator__solver=liblinear;, score=0.837 total time=   0.7s\n",
      "[CV 3/5] END estimator__C=3.2468337908364218, estimator__max_iter=1000, estimator__penalty=l2, estimator__solver=liblinear;, score=0.833 total time=   1.0s\n",
      "[CV 4/5] END estimator__C=3.2468337908364218, estimator__max_iter=1000, estimator__penalty=l2, estimator__solver=liblinear;, score=0.838 total time=   0.7s\n",
      "[CV 5/5] END estimator__C=3.2468337908364218, estimator__max_iter=1000, estimator__penalty=l2, estimator__solver=liblinear;, score=0.822 total time=   0.9s\n",
      "[CV 1/5] END estimator__C=3.2468337908364218, estimator__max_iter=1000, estimator__penalty=l1, estimator__solver=liblinear;, score=0.834 total time=   8.0s\n",
      "[CV 2/5] END estimator__C=3.2468337908364218, estimator__max_iter=1000, estimator__penalty=l1, estimator__solver=liblinear;, score=0.838 total time=   8.1s\n",
      "[CV 3/5] END estimator__C=3.2468337908364218, estimator__max_iter=1000, estimator__penalty=l1, estimator__solver=liblinear;, score=0.834 total time=   9.5s\n",
      "[CV 4/5] END estimator__C=3.2468337908364218, estimator__max_iter=1000, estimator__penalty=l1, estimator__solver=liblinear;, score=0.838 total time=   7.9s\n",
      "[CV 5/5] END estimator__C=3.2468337908364218, estimator__max_iter=1000, estimator__penalty=l1, estimator__solver=liblinear;, score=0.822 total time=   9.4s\n",
      "[CV 1/5] END estimator__C=4.865389639742697, estimator__max_iter=1000, estimator__penalty=l2, estimator__solver=liblinear;, score=0.834 total time=   0.9s\n",
      "[CV 2/5] END estimator__C=4.865389639742697, estimator__max_iter=1000, estimator__penalty=l2, estimator__solver=liblinear;, score=0.837 total time=   0.7s\n",
      "[CV 3/5] END estimator__C=4.865389639742697, estimator__max_iter=1000, estimator__penalty=l2, estimator__solver=liblinear;, score=0.833 total time=   0.7s\n",
      "[CV 4/5] END estimator__C=4.865389639742697, estimator__max_iter=1000, estimator__penalty=l2, estimator__solver=liblinear;, score=0.838 total time=   0.8s\n",
      "[CV 5/5] END estimator__C=4.865389639742697, estimator__max_iter=1000, estimator__penalty=l2, estimator__solver=liblinear;, score=0.822 total time=   0.8s\n",
      "[CV 1/5] END estimator__C=4.865389639742697, estimator__max_iter=1000, estimator__penalty=l1, estimator__solver=liblinear;, score=0.834 total time=  11.9s\n",
      "[CV 2/5] END estimator__C=4.865389639742697, estimator__max_iter=1000, estimator__penalty=l1, estimator__solver=liblinear;, score=0.838 total time=  11.4s\n",
      "[CV 3/5] END estimator__C=4.865389639742697, estimator__max_iter=1000, estimator__penalty=l1, estimator__solver=liblinear;, score=0.834 total time=  11.1s\n",
      "[CV 4/5] END estimator__C=4.865389639742697, estimator__max_iter=1000, estimator__penalty=l1, estimator__solver=liblinear;, score=0.838 total time=  10.5s\n",
      "[CV 5/5] END estimator__C=4.865389639742697, estimator__max_iter=1000, estimator__penalty=l1, estimator__solver=liblinear;, score=0.822 total time=  10.8s\n",
      "[CV 1/5] END estimator__C=4.053167825257314, estimator__max_iter=1000, estimator__penalty=l2, estimator__solver=liblinear;, score=0.834 total time=   0.8s\n",
      "[CV 2/5] END estimator__C=4.053167825257314, estimator__max_iter=1000, estimator__penalty=l2, estimator__solver=liblinear;, score=0.837 total time=   0.7s\n",
      "[CV 3/5] END estimator__C=4.053167825257314, estimator__max_iter=1000, estimator__penalty=l2, estimator__solver=liblinear;, score=0.833 total time=   0.7s\n",
      "[CV 4/5] END estimator__C=4.053167825257314, estimator__max_iter=1000, estimator__penalty=l2, estimator__solver=liblinear;, score=0.838 total time=   0.7s\n",
      "[CV 5/5] END estimator__C=4.053167825257314, estimator__max_iter=1000, estimator__penalty=l2, estimator__solver=liblinear;, score=0.822 total time=   0.9s\n",
      "[CV 1/5] END estimator__C=4.053167825257314, estimator__max_iter=1000, estimator__penalty=l1, estimator__solver=liblinear;, score=0.834 total time=   9.3s\n",
      "[CV 2/5] END estimator__C=4.053167825257314, estimator__max_iter=1000, estimator__penalty=l1, estimator__solver=liblinear;, score=0.838 total time=   9.4s\n",
      "[CV 3/5] END estimator__C=4.053167825257314, estimator__max_iter=1000, estimator__penalty=l1, estimator__solver=liblinear;, score=0.834 total time=   8.3s\n",
      "[CV 4/5] END estimator__C=4.053167825257314, estimator__max_iter=1000, estimator__penalty=l1, estimator__solver=liblinear;, score=0.838 total time=   9.2s\n",
      "[CV 5/5] END estimator__C=4.053167825257314, estimator__max_iter=1000, estimator__penalty=l1, estimator__solver=liblinear;, score=0.822 total time=  11.0s\n",
      "[CV 1/5] END estimator__C=2.954025668375753, estimator__max_iter=1000, estimator__penalty=l2, estimator__solver=liblinear;, score=0.834 total time=   0.8s\n",
      "[CV 2/5] END estimator__C=2.954025668375753, estimator__max_iter=1000, estimator__penalty=l2, estimator__solver=liblinear;, score=0.837 total time=   0.8s\n",
      "[CV 3/5] END estimator__C=2.954025668375753, estimator__max_iter=1000, estimator__penalty=l2, estimator__solver=liblinear;, score=0.833 total time=   0.8s\n",
      "[CV 4/5] END estimator__C=2.954025668375753, estimator__max_iter=1000, estimator__penalty=l2, estimator__solver=liblinear;, score=0.837 total time=   0.7s\n",
      "[CV 5/5] END estimator__C=2.954025668375753, estimator__max_iter=1000, estimator__penalty=l2, estimator__solver=liblinear;, score=0.822 total time=   0.9s\n",
      "[CV 1/5] END estimator__C=2.954025668375753, estimator__max_iter=1000, estimator__penalty=l1, estimator__solver=liblinear;, score=0.834 total time=  10.7s\n",
      "[CV 2/5] END estimator__C=2.954025668375753, estimator__max_iter=1000, estimator__penalty=l1, estimator__solver=liblinear;, score=0.838 total time=   9.5s\n",
      "[CV 3/5] END estimator__C=2.954025668375753, estimator__max_iter=1000, estimator__penalty=l1, estimator__solver=liblinear;, score=0.833 total time=   8.2s\n",
      "[CV 4/5] END estimator__C=2.954025668375753, estimator__max_iter=1000, estimator__penalty=l1, estimator__solver=liblinear;, score=0.838 total time=   7.8s\n",
      "[CV 5/5] END estimator__C=2.954025668375753, estimator__max_iter=1000, estimator__penalty=l1, estimator__solver=liblinear;, score=0.822 total time=   8.6s\n",
      "[CV 1/5] END estimator__C=3.7988913232716413, estimator__max_iter=1000, estimator__penalty=l2, estimator__solver=liblinear;, score=0.834 total time=   0.7s\n",
      "[CV 2/5] END estimator__C=3.7988913232716413, estimator__max_iter=1000, estimator__penalty=l2, estimator__solver=liblinear;, score=0.837 total time=   0.7s\n",
      "[CV 3/5] END estimator__C=3.7988913232716413, estimator__max_iter=1000, estimator__penalty=l2, estimator__solver=liblinear;, score=0.833 total time=   0.7s\n",
      "[CV 4/5] END estimator__C=3.7988913232716413, estimator__max_iter=1000, estimator__penalty=l2, estimator__solver=liblinear;, score=0.838 total time=   0.7s\n",
      "[CV 5/5] END estimator__C=3.7988913232716413, estimator__max_iter=1000, estimator__penalty=l2, estimator__solver=liblinear;, score=0.822 total time=   0.8s\n",
      "[CV 1/5] END estimator__C=3.7988913232716413, estimator__max_iter=1000, estimator__penalty=l1, estimator__solver=liblinear;, score=0.834 total time=   8.9s\n",
      "[CV 2/5] END estimator__C=3.7988913232716413, estimator__max_iter=1000, estimator__penalty=l1, estimator__solver=liblinear;, score=0.838 total time=   9.9s\n",
      "[CV 3/5] END estimator__C=3.7988913232716413, estimator__max_iter=1000, estimator__penalty=l1, estimator__solver=liblinear;, score=0.834 total time=  10.9s\n",
      "[CV 4/5] END estimator__C=3.7988913232716413, estimator__max_iter=1000, estimator__penalty=l1, estimator__solver=liblinear;, score=0.838 total time=  10.7s\n",
      "[CV 5/5] END estimator__C=3.7988913232716413, estimator__max_iter=1000, estimator__penalty=l1, estimator__solver=liblinear;, score=0.822 total time=   9.9s\n",
      "[CV 1/5] END estimator__C=2.4302370579759933, estimator__max_iter=1000, estimator__penalty=l2, estimator__solver=liblinear;, score=0.834 total time=   0.9s\n",
      "[CV 2/5] END estimator__C=2.4302370579759933, estimator__max_iter=1000, estimator__penalty=l2, estimator__solver=liblinear;, score=0.837 total time=   0.8s\n",
      "[CV 3/5] END estimator__C=2.4302370579759933, estimator__max_iter=1000, estimator__penalty=l2, estimator__solver=liblinear;, score=0.833 total time=   0.8s\n",
      "[CV 4/5] END estimator__C=2.4302370579759933, estimator__max_iter=1000, estimator__penalty=l2, estimator__solver=liblinear;, score=0.837 total time=   0.9s\n",
      "[CV 5/5] END estimator__C=2.4302370579759933, estimator__max_iter=1000, estimator__penalty=l2, estimator__solver=liblinear;, score=0.822 total time=   0.9s\n",
      "[CV 1/5] END estimator__C=2.4302370579759933, estimator__max_iter=1000, estimator__penalty=l1, estimator__solver=liblinear;, score=0.834 total time=   8.3s\n",
      "[CV 2/5] END estimator__C=2.4302370579759933, estimator__max_iter=1000, estimator__penalty=l1, estimator__solver=liblinear;, score=0.838 total time=  10.6s\n",
      "[CV 3/5] END estimator__C=2.4302370579759933, estimator__max_iter=1000, estimator__penalty=l1, estimator__solver=liblinear;, score=0.834 total time=   8.4s\n",
      "[CV 4/5] END estimator__C=2.4302370579759933, estimator__max_iter=1000, estimator__penalty=l1, estimator__solver=liblinear;, score=0.838 total time=   8.9s\n",
      "[CV 5/5] END estimator__C=2.4302370579759933, estimator__max_iter=1000, estimator__penalty=l1, estimator__solver=liblinear;, score=0.822 total time=  12.0s\n",
      "[CV 1/5] END estimator__C=4.612698154763653, estimator__max_iter=1000, estimator__penalty=l2, estimator__solver=liblinear;, score=0.834 total time=   0.9s\n",
      "[CV 2/5] END estimator__C=4.612698154763653, estimator__max_iter=1000, estimator__penalty=l2, estimator__solver=liblinear;, score=0.837 total time=   0.8s\n",
      "[CV 3/5] END estimator__C=4.612698154763653, estimator__max_iter=1000, estimator__penalty=l2, estimator__solver=liblinear;, score=0.833 total time=   0.8s\n",
      "[CV 4/5] END estimator__C=4.612698154763653, estimator__max_iter=1000, estimator__penalty=l2, estimator__solver=liblinear;, score=0.838 total time=   0.7s\n",
      "[CV 5/5] END estimator__C=4.612698154763653, estimator__max_iter=1000, estimator__penalty=l2, estimator__solver=liblinear;, score=0.822 total time=   0.9s\n",
      "[CV 1/5] END estimator__C=4.612698154763653, estimator__max_iter=1000, estimator__penalty=l1, estimator__solver=liblinear;, score=0.834 total time=  14.5s\n",
      "[CV 2/5] END estimator__C=4.612698154763653, estimator__max_iter=1000, estimator__penalty=l1, estimator__solver=liblinear;, score=0.838 total time=  10.3s\n",
      "[CV 3/5] END estimator__C=4.612698154763653, estimator__max_iter=1000, estimator__penalty=l1, estimator__solver=liblinear;, score=0.834 total time=  11.9s\n",
      "[CV 4/5] END estimator__C=4.612698154763653, estimator__max_iter=1000, estimator__penalty=l1, estimator__solver=liblinear;, score=0.838 total time=  10.0s\n",
      "[CV 5/5] END estimator__C=4.612698154763653, estimator__max_iter=1000, estimator__penalty=l1, estimator__solver=liblinear;, score=0.822 total time=  11.6s\n"
     ]
    },
    {
     "data": {
      "text/plain": [
       "GridSearchCV(cv=5, error_score='raise',\n",
       "             estimator=MultiOutputClassifier(estimator=LogisticRegression(),\n",
       "                                             n_jobs=-1),\n",
       "             n_jobs=1,\n",
       "             param_grid={'estimator__C': array([2.2566145 , 3.61569577, 1.05212709, 3.65597918, 2.16976284,\n",
       "       2.22134059, 3.45702661, 1.71371274, 2.31302917, 3.20058405,\n",
       "       0.76539113, 3.24463422, 3.21968374, 3.24683379, 4.86538964,\n",
       "       4.05316783, 2.95402567, 3.79889132, 2.43023706, 4.61269815]),\n",
       "                         'estimator__max_iter': [1000],\n",
       "                         'estimator__penalty': ['l2', 'l1'],\n",
       "                         'estimator__solver': ['liblinear']},\n",
       "             scoring='f1_samples', verbose=5)"
      ]
     },
     "execution_count": 153,
     "metadata": {},
     "output_type": "execute_result"
    }
   ],
   "source": [
    "base_model = LogisticRegression()\n",
    "model = MultiOutputClassifier(base_model, n_jobs=-1)\n",
    "\n",
    "param_grid = {'estimator__C': np.random.uniform(low=0.1, high=5, size=20),\n",
    "              'estimator__penalty': ['l2', 'l1'],\n",
    "              'estimator__solver': ['liblinear'],\n",
    "              'estimator__max_iter': [1000]}\n",
    "gscv = GridSearchCV(estimator=model, param_grid=param_grid, scoring='f1_samples', cv=5, n_jobs=1, verbose=5, error_score='raise')\n",
    "gscv.fit(train, target)"
   ]
  },
  {
   "cell_type": "code",
   "execution_count": 154,
   "metadata": {},
   "outputs": [
    {
     "data": {
      "text/plain": [
       "0.8331642737291322"
      ]
     },
     "execution_count": 154,
     "metadata": {},
     "output_type": "execute_result"
    }
   ],
   "source": [
    "gscv.best_score_"
   ]
  },
  {
   "cell_type": "code",
   "execution_count": null,
   "metadata": {},
   "outputs": [],
   "source": [
    "# 0.8432528292228764 - LR\n",
    "# 0.8441071697984434 - LinSVC\n",
    "# 0.8441432080880193 - LinSVC"
   ]
  },
  {
   "cell_type": "code",
   "execution_count": 156,
   "metadata": {},
   "outputs": [],
   "source": [
    "pred_proba = gscv.predict_proba(test)\n",
    "pred_labels = gscv.predict(test)"
   ]
  },
  {
   "cell_type": "code",
   "execution_count": 157,
   "metadata": {},
   "outputs": [],
   "source": [
    "pred_proba = np.stack([p[:, 1] for p in pred_proba]).T\n",
    "pred_proba = get_pred_labels(pred_proba)\n",
    "pred_proba = pd.DataFrame(pred_proba, index=test.index, columns=target.columns)\n",
    "pred_proba['target'] = pred_proba.apply(_process_pred_labels, axis=1)"
   ]
  },
  {
   "cell_type": "code",
   "execution_count": 159,
   "metadata": {},
   "outputs": [],
   "source": [
    "pred_proba['target'].to_csv('stacking.csv')"
   ]
  }
 ],
 "metadata": {
  "interpreter": {
   "hash": "3d597f4c481aa0f25dceb95d2a0067e73c0966dcbd003d741d821a7208527ecf"
  },
  "kernelspec": {
   "display_name": "Python 3.9.5 64-bit ('base': conda)",
   "language": "python",
   "name": "python3"
  },
  "language_info": {
   "codemirror_mode": {
    "name": "ipython",
    "version": 3
   },
   "file_extension": ".py",
   "mimetype": "text/x-python",
   "name": "python",
   "nbconvert_exporter": "python",
   "pygments_lexer": "ipython3",
   "version": "3.9.5"
  },
  "orig_nbformat": 4
 },
 "nbformat": 4,
 "nbformat_minor": 2
}
